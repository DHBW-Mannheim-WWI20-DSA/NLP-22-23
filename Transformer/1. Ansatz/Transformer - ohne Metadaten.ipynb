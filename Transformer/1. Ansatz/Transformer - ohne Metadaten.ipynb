{
 "cells": [
  {
   "cell_type": "markdown",
   "source": [
    "# Transformer - ohne Metadaten\n",
    "## Installment of Moduls"
   ],
   "metadata": {
    "collapsed": false
   }
  },
  {
   "cell_type": "code",
   "execution_count": 1,
   "metadata": {
    "collapsed": true
   },
   "outputs": [
    {
     "name": "stdout",
     "output_type": "stream",
     "text": [
      "Requirement already satisfied: numpy in d:\\final dep\\venv\\lib\\site-packages (from -r requirements.txt (line 1)) (1.23.1)\n",
      "Requirement already satisfied: pandas in d:\\final dep\\venv\\lib\\site-packages (from -r requirements.txt (line 2)) (1.4.3)\n",
      "Requirement already satisfied: tensorflow in d:\\final dep\\venv\\lib\\site-packages (from -r requirements.txt (line 3)) (2.9.1)\n",
      "Requirement already satisfied: autokeras in d:\\final dep\\venv\\lib\\site-packages (from -r requirements.txt (line 4)) (1.0.20)\n",
      "Requirement already satisfied: python-dateutil>=2.8.1 in d:\\final dep\\venv\\lib\\site-packages (from pandas->-r requirements.txt (line 2)) (2.8.2)\n",
      "Requirement already satisfied: pytz>=2020.1 in d:\\final dep\\venv\\lib\\site-packages (from pandas->-r requirements.txt (line 2)) (2022.1)\n",
      "Requirement already satisfied: setuptools in d:\\final dep\\venv\\lib\\site-packages (from tensorflow->-r requirements.txt (line 3)) (60.2.0)\n",
      "Requirement already satisfied: gast<=0.4.0,>=0.2.1 in d:\\final dep\\venv\\lib\\site-packages (from tensorflow->-r requirements.txt (line 3)) (0.4.0)\n",
      "Requirement already satisfied: termcolor>=1.1.0 in d:\\final dep\\venv\\lib\\site-packages (from tensorflow->-r requirements.txt (line 3)) (1.1.0)\n",
      "Requirement already satisfied: tensorflow-io-gcs-filesystem>=0.23.1 in d:\\final dep\\venv\\lib\\site-packages (from tensorflow->-r requirements.txt (line 3)) (0.26.0)\n",
      "Requirement already satisfied: tensorflow-estimator<2.10.0,>=2.9.0rc0 in d:\\final dep\\venv\\lib\\site-packages (from tensorflow->-r requirements.txt (line 3)) (2.9.0)\n",
      "Requirement already satisfied: google-pasta>=0.1.1 in d:\\final dep\\venv\\lib\\site-packages (from tensorflow->-r requirements.txt (line 3)) (0.2.0)\n",
      "Requirement already satisfied: absl-py>=1.0.0 in d:\\final dep\\venv\\lib\\site-packages (from tensorflow->-r requirements.txt (line 3)) (1.2.0)\n",
      "Requirement already satisfied: tensorboard<2.10,>=2.9 in d:\\final dep\\venv\\lib\\site-packages (from tensorflow->-r requirements.txt (line 3)) (2.9.1)\n",
      "Requirement already satisfied: keras-preprocessing>=1.1.1 in d:\\final dep\\venv\\lib\\site-packages (from tensorflow->-r requirements.txt (line 3)) (1.1.2)\n",
      "Requirement already satisfied: h5py>=2.9.0 in d:\\final dep\\venv\\lib\\site-packages (from tensorflow->-r requirements.txt (line 3)) (3.7.0)\n",
      "Requirement already satisfied: libclang>=13.0.0 in d:\\final dep\\venv\\lib\\site-packages (from tensorflow->-r requirements.txt (line 3)) (14.0.6)\n",
      "Requirement already satisfied: six>=1.12.0 in d:\\final dep\\venv\\lib\\site-packages (from tensorflow->-r requirements.txt (line 3)) (1.16.0)\n",
      "Requirement already satisfied: protobuf<3.20,>=3.9.2 in d:\\final dep\\venv\\lib\\site-packages (from tensorflow->-r requirements.txt (line 3)) (3.19.4)\n",
      "Requirement already satisfied: opt-einsum>=2.3.2 in d:\\final dep\\venv\\lib\\site-packages (from tensorflow->-r requirements.txt (line 3)) (3.3.0)\n",
      "Requirement already satisfied: packaging in d:\\final dep\\venv\\lib\\site-packages (from tensorflow->-r requirements.txt (line 3)) (21.3)\n",
      "Requirement already satisfied: grpcio<2.0,>=1.24.3 in d:\\final dep\\venv\\lib\\site-packages (from tensorflow->-r requirements.txt (line 3)) (1.47.0)\n",
      "Requirement already satisfied: astunparse>=1.6.0 in d:\\final dep\\venv\\lib\\site-packages (from tensorflow->-r requirements.txt (line 3)) (1.6.3)\n",
      "Requirement already satisfied: wrapt>=1.11.0 in d:\\final dep\\venv\\lib\\site-packages (from tensorflow->-r requirements.txt (line 3)) (1.14.1)\n",
      "Requirement already satisfied: flatbuffers<2,>=1.12 in d:\\final dep\\venv\\lib\\site-packages (from tensorflow->-r requirements.txt (line 3)) (1.12)\n",
      "Requirement already satisfied: keras<2.10.0,>=2.9.0rc0 in d:\\final dep\\venv\\lib\\site-packages (from tensorflow->-r requirements.txt (line 3)) (2.9.0)\n",
      "Requirement already satisfied: typing-extensions>=3.6.6 in d:\\final dep\\venv\\lib\\site-packages (from tensorflow->-r requirements.txt (line 3)) (4.3.0)\n",
      "Requirement already satisfied: keras-tuner>=1.1.0 in d:\\final dep\\venv\\lib\\site-packages (from autokeras->-r requirements.txt (line 4)) (1.1.3)\n",
      "Requirement already satisfied: wheel<1.0,>=0.23.0 in d:\\final dep\\venv\\lib\\site-packages (from astunparse>=1.6.0->tensorflow->-r requirements.txt (line 3)) (0.37.1)\n",
      "Requirement already satisfied: ipython in d:\\final dep\\venv\\lib\\site-packages (from keras-tuner>=1.1.0->autokeras->-r requirements.txt (line 4)) (8.4.0)\n",
      "Requirement already satisfied: requests in d:\\final dep\\venv\\lib\\site-packages (from keras-tuner>=1.1.0->autokeras->-r requirements.txt (line 4)) (2.28.1)\n",
      "Requirement already satisfied: kt-legacy in d:\\final dep\\venv\\lib\\site-packages (from keras-tuner>=1.1.0->autokeras->-r requirements.txt (line 4)) (1.0.4)\n",
      "Requirement already satisfied: markdown>=2.6.8 in d:\\final dep\\venv\\lib\\site-packages (from tensorboard<2.10,>=2.9->tensorflow->-r requirements.txt (line 3)) (3.4.1)\n",
      "Requirement already satisfied: werkzeug>=1.0.1 in d:\\final dep\\venv\\lib\\site-packages (from tensorboard<2.10,>=2.9->tensorflow->-r requirements.txt (line 3)) (2.2.1)\n",
      "Requirement already satisfied: tensorboard-data-server<0.7.0,>=0.6.0 in d:\\final dep\\venv\\lib\\site-packages (from tensorboard<2.10,>=2.9->tensorflow->-r requirements.txt (line 3)) (0.6.1)\n",
      "Requirement already satisfied: google-auth-oauthlib<0.5,>=0.4.1 in d:\\final dep\\venv\\lib\\site-packages (from tensorboard<2.10,>=2.9->tensorflow->-r requirements.txt (line 3)) (0.4.6)\n",
      "Requirement already satisfied: google-auth<3,>=1.6.3 in d:\\final dep\\venv\\lib\\site-packages (from tensorboard<2.10,>=2.9->tensorflow->-r requirements.txt (line 3)) (2.10.0)\n",
      "Requirement already satisfied: tensorboard-plugin-wit>=1.6.0 in d:\\final dep\\venv\\lib\\site-packages (from tensorboard<2.10,>=2.9->tensorflow->-r requirements.txt (line 3)) (1.8.1)\n",
      "Requirement already satisfied: pyparsing!=3.0.5,>=2.0.2 in d:\\final dep\\venv\\lib\\site-packages (from packaging->tensorflow->-r requirements.txt (line 3)) (3.0.9)\n",
      "Requirement already satisfied: pyasn1-modules>=0.2.1 in d:\\final dep\\venv\\lib\\site-packages (from google-auth<3,>=1.6.3->tensorboard<2.10,>=2.9->tensorflow->-r requirements.txt (line 3)) (0.2.8)\n",
      "Requirement already satisfied: cachetools<6.0,>=2.0.0 in d:\\final dep\\venv\\lib\\site-packages (from google-auth<3,>=1.6.3->tensorboard<2.10,>=2.9->tensorflow->-r requirements.txt (line 3)) (5.2.0)\n",
      "Requirement already satisfied: rsa<5,>=3.1.4 in d:\\final dep\\venv\\lib\\site-packages (from google-auth<3,>=1.6.3->tensorboard<2.10,>=2.9->tensorflow->-r requirements.txt (line 3)) (4.9)\n",
      "Requirement already satisfied: requests-oauthlib>=0.7.0 in d:\\final dep\\venv\\lib\\site-packages (from google-auth-oauthlib<0.5,>=0.4.1->tensorboard<2.10,>=2.9->tensorflow->-r requirements.txt (line 3)) (1.3.1)\n",
      "Requirement already satisfied: importlib-metadata>=4.4 in d:\\final dep\\venv\\lib\\site-packages (from markdown>=2.6.8->tensorboard<2.10,>=2.9->tensorflow->-r requirements.txt (line 3)) (4.12.0)\n",
      "Requirement already satisfied: certifi>=2017.4.17 in d:\\final dep\\venv\\lib\\site-packages (from requests->keras-tuner>=1.1.0->autokeras->-r requirements.txt (line 4)) (2022.6.15)\n",
      "Requirement already satisfied: charset-normalizer<3,>=2 in d:\\final dep\\venv\\lib\\site-packages (from requests->keras-tuner>=1.1.0->autokeras->-r requirements.txt (line 4)) (2.1.0)\n",
      "Requirement already satisfied: idna<4,>=2.5 in d:\\final dep\\venv\\lib\\site-packages (from requests->keras-tuner>=1.1.0->autokeras->-r requirements.txt (line 4)) (3.3)\n",
      "Requirement already satisfied: urllib3<1.27,>=1.21.1 in d:\\final dep\\venv\\lib\\site-packages (from requests->keras-tuner>=1.1.0->autokeras->-r requirements.txt (line 4)) (1.26.11)\n",
      "Requirement already satisfied: MarkupSafe>=2.1.1 in d:\\final dep\\venv\\lib\\site-packages (from werkzeug>=1.0.1->tensorboard<2.10,>=2.9->tensorflow->-r requirements.txt (line 3)) (2.1.1)\n",
      "Requirement already satisfied: traitlets>=5 in d:\\final dep\\venv\\lib\\site-packages (from ipython->keras-tuner>=1.1.0->autokeras->-r requirements.txt (line 4)) (5.3.0)\n",
      "Requirement already satisfied: decorator in d:\\final dep\\venv\\lib\\site-packages (from ipython->keras-tuner>=1.1.0->autokeras->-r requirements.txt (line 4)) (5.1.1)\n",
      "Requirement already satisfied: colorama in d:\\final dep\\venv\\lib\\site-packages (from ipython->keras-tuner>=1.1.0->autokeras->-r requirements.txt (line 4)) (0.4.5)\n",
      "Requirement already satisfied: backcall in d:\\final dep\\venv\\lib\\site-packages (from ipython->keras-tuner>=1.1.0->autokeras->-r requirements.txt (line 4)) (0.2.0)\n",
      "Requirement already satisfied: matplotlib-inline in d:\\final dep\\venv\\lib\\site-packages (from ipython->keras-tuner>=1.1.0->autokeras->-r requirements.txt (line 4)) (0.1.3)\n",
      "Requirement already satisfied: pygments>=2.4.0 in d:\\final dep\\venv\\lib\\site-packages (from ipython->keras-tuner>=1.1.0->autokeras->-r requirements.txt (line 4)) (2.12.0)\n",
      "Requirement already satisfied: stack-data in d:\\final dep\\venv\\lib\\site-packages (from ipython->keras-tuner>=1.1.0->autokeras->-r requirements.txt (line 4)) (0.3.0)\n",
      "Requirement already satisfied: pickleshare in d:\\final dep\\venv\\lib\\site-packages (from ipython->keras-tuner>=1.1.0->autokeras->-r requirements.txt (line 4)) (0.7.5)\n",
      "Requirement already satisfied: prompt-toolkit!=3.0.0,!=3.0.1,<3.1.0,>=2.0.0 in d:\\final dep\\venv\\lib\\site-packages (from ipython->keras-tuner>=1.1.0->autokeras->-r requirements.txt (line 4)) (3.0.30)\n",
      "Requirement already satisfied: jedi>=0.16 in d:\\final dep\\venv\\lib\\site-packages (from ipython->keras-tuner>=1.1.0->autokeras->-r requirements.txt (line 4)) (0.18.1)\n",
      "Requirement already satisfied: zipp>=0.5 in d:\\final dep\\venv\\lib\\site-packages (from importlib-metadata>=4.4->markdown>=2.6.8->tensorboard<2.10,>=2.9->tensorflow->-r requirements.txt (line 3)) (3.8.1)\n",
      "Requirement already satisfied: parso<0.9.0,>=0.8.0 in d:\\final dep\\venv\\lib\\site-packages (from jedi>=0.16->ipython->keras-tuner>=1.1.0->autokeras->-r requirements.txt (line 4)) (0.8.3)\n",
      "Requirement already satisfied: wcwidth in d:\\final dep\\venv\\lib\\site-packages (from prompt-toolkit!=3.0.0,!=3.0.1,<3.1.0,>=2.0.0->ipython->keras-tuner>=1.1.0->autokeras->-r requirements.txt (line 4)) (0.2.5)\n",
      "Requirement already satisfied: pyasn1<0.5.0,>=0.4.6 in d:\\final dep\\venv\\lib\\site-packages (from pyasn1-modules>=0.2.1->google-auth<3,>=1.6.3->tensorboard<2.10,>=2.9->tensorflow->-r requirements.txt (line 3)) (0.4.8)\n",
      "Requirement already satisfied: oauthlib>=3.0.0 in d:\\final dep\\venv\\lib\\site-packages (from requests-oauthlib>=0.7.0->google-auth-oauthlib<0.5,>=0.4.1->tensorboard<2.10,>=2.9->tensorflow->-r requirements.txt (line 3)) (3.2.0)\n",
      "Requirement already satisfied: asttokens in d:\\final dep\\venv\\lib\\site-packages (from stack-data->ipython->keras-tuner>=1.1.0->autokeras->-r requirements.txt (line 4)) (2.0.5)\n",
      "Requirement already satisfied: pure-eval in d:\\final dep\\venv\\lib\\site-packages (from stack-data->ipython->keras-tuner>=1.1.0->autokeras->-r requirements.txt (line 4)) (0.2.2)\n",
      "Requirement already satisfied: executing in d:\\final dep\\venv\\lib\\site-packages (from stack-data->ipython->keras-tuner>=1.1.0->autokeras->-r requirements.txt (line 4)) (0.9.1)\n"
     ]
    },
    {
     "name": "stderr",
     "output_type": "stream",
     "text": [
      "WARNING: You are using pip version 21.3.1; however, version 22.3.1 is available.\n",
      "You should consider upgrading via the 'D:\\Final DEP\\venv\\Scripts\\python.exe -m pip install --upgrade pip' command.\n"
     ]
    }
   ],
   "source": [
    "!pip install -r requirements.txt"
   ]
  },
  {
   "cell_type": "markdown",
   "source": [
    "## Loading of the Moduls"
   ],
   "metadata": {
    "collapsed": false
   }
  },
  {
   "cell_type": "code",
   "execution_count": 1,
   "outputs": [],
   "source": [
    "import pathlib\n",
    "import numpy as np\n",
    "import pandas as pd\n",
    "import tensorflow as tf\n",
    "import autokeras as ak"
   ],
   "metadata": {
    "collapsed": false
   }
  },
  {
   "cell_type": "markdown",
   "source": [
    "## Definition of Project Information\n",
    "### Constants"
   ],
   "metadata": {
    "collapsed": false
   }
  },
  {
   "cell_type": "code",
   "execution_count": 2,
   "outputs": [],
   "source": [
    "RANDOM_STATE = 43\n",
    "INPUT_FILE_NAME = \"emails.csv\"\n",
    "BASE_MODEL_NAME = \"distilbert-base-uncased\"\n",
    "OUTPUT_FOLDER_NAME = \"output_model\""
   ],
   "metadata": {
    "collapsed": false
   }
  },
  {
   "cell_type": "markdown",
   "source": [
    "### Paths"
   ],
   "metadata": {
    "collapsed": false
   }
  },
  {
   "cell_type": "code",
   "execution_count": 3,
   "outputs": [],
   "source": [
    "NOTEBOOK_ROOT_PATH = pathlib.Path.cwd()\n",
    "INPUT_FILE_PATH = pathlib.Path.joinpath(NOTEBOOK_ROOT_PATH, INPUT_FILE_NAME)\n",
    "OUTPUT_FOLDER_PATH = pathlib.Path.joinpath(NOTEBOOK_ROOT_PATH, OUTPUT_FOLDER_NAME)"
   ],
   "metadata": {
    "collapsed": false
   }
  },
  {
   "cell_type": "markdown",
   "source": [
    "### GPU"
   ],
   "metadata": {
    "collapsed": false
   }
  },
  {
   "cell_type": "code",
   "execution_count": 4,
   "outputs": [
    {
     "data": {
      "text/plain": "[PhysicalDevice(name='/physical_device:GPU:0', device_type='GPU')]"
     },
     "execution_count": 4,
     "metadata": {},
     "output_type": "execute_result"
    }
   ],
   "source": [
    "tf.config.list_physical_devices('GPU')"
   ],
   "metadata": {
    "collapsed": false
   }
  },
  {
   "cell_type": "code",
   "execution_count": 5,
   "outputs": [
    {
     "data": {
      "text/plain": "(True, True)"
     },
     "execution_count": 5,
     "metadata": {},
     "output_type": "execute_result"
    }
   ],
   "source": [
    "tf.test.is_built_with_cuda(), tf.test.is_built_with_gpu_support()"
   ],
   "metadata": {
    "collapsed": false
   }
  },
  {
   "cell_type": "markdown",
   "source": [
    "## Load File to Dataframe"
   ],
   "metadata": {
    "collapsed": false
   }
  },
  {
   "cell_type": "code",
   "execution_count": 6,
   "outputs": [
    {
     "data": {
      "text/plain": "                                                text  spam\n0  Subject: naturally irresistible your corporate...     1\n1  Subject: the stock trading gunslinger  fanny i...     1\n2  Subject: unbelievable new homes made easy  im ...     1\n3  Subject: 4 color printing special  request add...     1\n4  Subject: do not have money , get software cds ...     1",
      "text/html": "<div>\n<style scoped>\n    .dataframe tbody tr th:only-of-type {\n        vertical-align: middle;\n    }\n\n    .dataframe tbody tr th {\n        vertical-align: top;\n    }\n\n    .dataframe thead th {\n        text-align: right;\n    }\n</style>\n<table border=\"1\" class=\"dataframe\">\n  <thead>\n    <tr style=\"text-align: right;\">\n      <th></th>\n      <th>text</th>\n      <th>spam</th>\n    </tr>\n  </thead>\n  <tbody>\n    <tr>\n      <th>0</th>\n      <td>Subject: naturally irresistible your corporate...</td>\n      <td>1</td>\n    </tr>\n    <tr>\n      <th>1</th>\n      <td>Subject: the stock trading gunslinger  fanny i...</td>\n      <td>1</td>\n    </tr>\n    <tr>\n      <th>2</th>\n      <td>Subject: unbelievable new homes made easy  im ...</td>\n      <td>1</td>\n    </tr>\n    <tr>\n      <th>3</th>\n      <td>Subject: 4 color printing special  request add...</td>\n      <td>1</td>\n    </tr>\n    <tr>\n      <th>4</th>\n      <td>Subject: do not have money , get software cds ...</td>\n      <td>1</td>\n    </tr>\n  </tbody>\n</table>\n</div>"
     },
     "execution_count": 6,
     "metadata": {},
     "output_type": "execute_result"
    }
   ],
   "source": [
    "dataframe = pd.read_csv(INPUT_FILE_NAME)\n",
    "dataframe.head()"
   ],
   "metadata": {
    "collapsed": false
   }
  },
  {
   "cell_type": "markdown",
   "source": [
    "# Model Generation\n",
    "## Definition of the AutoKeras Model\n",
    "### Input Objects"
   ],
   "metadata": {
    "collapsed": false
   }
  },
  {
   "cell_type": "code",
   "execution_count": 8,
   "outputs": [],
   "source": [
    "content_txt_input = ak.TextInput()"
   ],
   "metadata": {
    "collapsed": false
   }
  },
  {
   "cell_type": "markdown",
   "source": [
    "### Processing Block"
   ],
   "metadata": {
    "collapsed": false
   }
  },
  {
   "cell_type": "code",
   "execution_count": 22,
   "outputs": [],
   "source": [
    "content_txt_output = ak.TextBlock(block_type=\"transformer\")(content_txt_input)\n",
    "classification_head = ak.ClassificationHead(num_classes=2,multi_label=False, metrics=\"accuracy\")(content_txt_output)"
   ],
   "metadata": {
    "collapsed": false
   }
  },
  {
   "cell_type": "markdown",
   "source": [
    "### Build Complete Model"
   ],
   "metadata": {
    "collapsed": false
   }
  },
  {
   "cell_type": "code",
   "execution_count": 26,
   "outputs": [],
   "source": [
    "model = ak.AutoModel(\n",
    "    inputs= content_txt_input,\n",
    "    outputs= classification_head,\n",
    "    objective= \"val_accuracy\",\n",
    "    max_trials= 10,\n",
    "    overwrite= True,\n",
    "    project_name= \"Spam-Classificator\",\n",
    "    seed= RANDOM_STATE\n",
    ")"
   ],
   "metadata": {
    "collapsed": false
   }
  },
  {
   "cell_type": "markdown",
   "source": [
    "## Preparation of the Datasets"
   ],
   "metadata": {
    "collapsed": false
   }
  },
  {
   "cell_type": "code",
   "execution_count": 28,
   "outputs": [],
   "source": [
    "train_df, test_df = np.split(dataframe.sample(frac=1, random_state=RANDOM_STATE),\n",
    "                             [int(0.8 * len(dataframe))])"
   ],
   "metadata": {
    "collapsed": false
   }
  },
  {
   "cell_type": "markdown",
   "source": [
    "## Training of the Model"
   ],
   "metadata": {
    "collapsed": false
   }
  },
  {
   "cell_type": "code",
   "execution_count": 29,
   "outputs": [
    {
     "name": "stdout",
     "output_type": "stream",
     "text": [
      "Trial 10 Complete [00h 00m 18s]\n",
      "val_accuracy: 0.7678018808364868\n",
      "\n",
      "Best val_accuracy So Far: 0.9938080310821533\n",
      "Total elapsed time: 00h 03m 26s\n",
      "INFO:tensorflow:Oracle triggered exit\n",
      "Epoch 1/5\n",
      "144/144 [==============================] - 4s 22ms/step - loss: 0.3576 - accuracy: 0.8806\n",
      "Epoch 2/5\n",
      "144/144 [==============================] - 3s 21ms/step - loss: 0.0576 - accuracy: 0.9782\n",
      "Epoch 3/5\n",
      "144/144 [==============================] - 3s 21ms/step - loss: 0.0184 - accuracy: 0.9941\n",
      "Epoch 4/5\n",
      "144/144 [==============================] - 3s 21ms/step - loss: 0.0069 - accuracy: 0.9978\n",
      "Epoch 5/5\n",
      "144/144 [==============================] - 3s 20ms/step - loss: 0.0030 - accuracy: 0.9991\n",
      "INFO:tensorflow:Assets written to: .\\Spam-Classificator\\best_model\\assets\n"
     ]
    },
    {
     "data": {
      "text/plain": "<keras.callbacks.History at 0x238295db2b0>"
     },
     "execution_count": 29,
     "metadata": {},
     "output_type": "execute_result"
    }
   ],
   "source": [
    "model.fit(\n",
    "    x=np.array(train_df.text),\n",
    "    y=np.array(train_df.spam),\n",
    "    validation_split=0.15,\n",
    "    epochs=5\n",
    ")"
   ],
   "metadata": {
    "collapsed": false
   }
  },
  {
   "cell_type": "markdown",
   "source": [
    "## Save the best Model"
   ],
   "metadata": {
    "collapsed": false
   }
  },
  {
   "cell_type": "code",
   "execution_count": 30,
   "outputs": [
    {
     "name": "stdout",
     "output_type": "stream",
     "text": [
      "INFO:tensorflow:Assets written to: D:\\NLP-22-23\\Transformer\\output_model\\transformer-metadata.tf\\assets\n"
     ]
    }
   ],
   "source": [
    "best_model = model.tuner.get_best_model()\n",
    "best_model.save(pathlib.Path.joinpath(OUTPUT_FOLDER_PATH, 'transformer-metadata.tf'))"
   ],
   "metadata": {
    "collapsed": false
   }
  },
  {
   "cell_type": "markdown",
   "source": [
    "# Evaluate the Model Performance\n",
    "## Load the best Model from Drive"
   ],
   "metadata": {
    "collapsed": false
   }
  },
  {
   "cell_type": "code",
   "execution_count": 33,
   "outputs": [],
   "source": [
    "best_model = tf.keras.models.load_model(pathlib.Path.joinpath(OUTPUT_FOLDER_PATH, 'transformer-metadata.tf'))"
   ],
   "metadata": {
    "collapsed": false
   }
  },
  {
   "cell_type": "code",
   "execution_count": 37,
   "outputs": [
    {
     "name": "stdout",
     "output_type": "stream",
     "text": [
      "\n",
      "--- Model Performance ---\n",
      "loss = 0.028793204575777054\n",
      "accuracy = 0.9895287752151489\n",
      "\n"
     ]
    }
   ],
   "source": [
    " results = best_model.evaluate(\n",
    "    x= np.array(test_df.text),\n",
    "    y= np.array(test_df.spam),\n",
    "    verbose= 0\n",
    ")\n",
    "print(f'''\n",
    "--- Model Performance ---\n",
    "loss = {results[0]}\n",
    "accuracy = {results[1]}\n",
    "''')"
   ],
   "metadata": {
    "collapsed": false
   }
  }
 ],
 "metadata": {
  "kernelspec": {
   "display_name": "Python 3",
   "language": "python",
   "name": "python3"
  },
  "language_info": {
   "codemirror_mode": {
    "name": "ipython",
    "version": 2
   },
   "file_extension": ".py",
   "mimetype": "text/x-python",
   "name": "python",
   "nbconvert_exporter": "python",
   "pygments_lexer": "ipython2",
   "version": "2.7.6"
  }
 },
 "nbformat": 4,
 "nbformat_minor": 0
}
