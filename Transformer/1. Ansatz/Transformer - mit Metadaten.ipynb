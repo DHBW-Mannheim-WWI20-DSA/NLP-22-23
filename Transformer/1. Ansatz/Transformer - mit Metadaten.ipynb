{
 "cells": [
  {
   "cell_type": "markdown",
   "source": [
    "# SetUp"
   ],
   "attachments": {},
   "metadata": {
    "datalore": {
     "node_id": "SetUp",
     "type": "MD",
     "hide_input_from_viewers": false,
     "hide_output_from_viewers": false,
     "sheet_delimiter": true
    }
   }
  },
  {
   "cell_type": "markdown",
   "source": [
    "# Transformer Model with Metadata\n",
    "## Notebook SetUp"
   ],
   "attachments": {},
   "metadata": {
    "datalore": {
     "node_id": "vlV1yCsyCyuxh7LVAoIgw2",
     "type": "MD",
     "hide_input_from_viewers": false,
     "hide_output_from_viewers": false
    }
   }
  },
  {
   "cell_type": "code",
   "source": [
    "# !pip install -r requirements.txt"
   ],
   "execution_count": null,
   "outputs": [],
   "metadata": {
    "datalore": {
     "node_id": "Y2Mg0JR3AT2iA2SsfOzLx8",
     "type": "CODE",
     "hide_input_from_viewers": false,
     "hide_output_from_viewers": false
    }
   }
  },
  {
   "cell_type": "markdown",
   "source": [
    "## Import of Libraries"
   ],
   "attachments": {},
   "metadata": {
    "datalore": {
     "node_id": "q3e29u6qZOwefC8OYcOnOz",
     "type": "MD",
     "hide_input_from_viewers": false,
     "hide_output_from_viewers": false
    }
   }
  },
  {
   "cell_type": "code",
   "source": [
    "import pathlib\n",
    "import numpy as np\n",
    "import pandas as pd\n",
    "import tensorflow as tf\n",
    "import autokeras as ak\n",
    "import transformers as ts"
   ],
   "execution_count": null,
   "outputs": [],
   "metadata": {
    "datalore": {
     "node_id": "sU6NdXm2AtxYfsVoVTKJw9",
     "type": "CODE",
     "hide_input_from_viewers": false,
     "hide_output_from_viewers": false
    }
   }
  },
  {
   "cell_type": "markdown",
   "source": [
    "## Project Constants and Paths\n",
    "### Constants"
   ],
   "attachments": {},
   "metadata": {
    "datalore": {
     "node_id": "ngz2TK27p9kUDTw1CtekpY",
     "type": "MD",
     "hide_input_from_viewers": false,
     "hide_output_from_viewers": false
    }
   }
  },
  {
   "cell_type": "code",
   "source": [
    "RANDOM_STATE = 43\n",
    "INPUT_FILE_NAME = \"emails_mit_Metadaten.csv\"\n",
    "BASE_MODEL_NAME = \"distilbert-base-uncased\"\n",
    "OUTPUT_FOLDER_NAME = \"output_model\""
   ],
   "execution_count": null,
   "outputs": [],
   "metadata": {
    "datalore": {
     "node_id": "yeJmD83vK7TrVxNdt11Awk",
     "type": "CODE",
     "hide_input_from_viewers": false,
     "hide_output_from_viewers": false
    }
   }
  },
  {
   "cell_type": "markdown",
   "source": [
    "### Paths"
   ],
   "attachments": {},
   "metadata": {
    "datalore": {
     "node_id": "fWsG0PFy25Kad0FnhYTi1j",
     "type": "MD",
     "hide_input_from_viewers": false,
     "hide_output_from_viewers": false
    }
   }
  },
  {
   "cell_type": "code",
   "source": [
    "NOTEBOOK_ROOT_PATH = pathlib.Path.cwd()\n",
    "INPUT_FILE_PATH = pathlib.Path.joinpath(NOTEBOOK_ROOT_PATH, INPUT_FILE_NAME)\n",
    "OUTPUT_FOLDER_PATH = pathlib.Path.joinpath(NOTEBOOK_ROOT_PATH, OUTPUT_FOLDER_NAME)"
   ],
   "execution_count": null,
   "outputs": [],
   "metadata": {
    "datalore": {
     "node_id": "wiNn5eWvBVOAgjBtUZDiIQ",
     "type": "CODE",
     "hide_input_from_viewers": false,
     "hide_output_from_viewers": false
    }
   }
  },
  {
   "cell_type": "markdown",
   "source": [
    "## Import of File to Dataframe (Pandas)"
   ],
   "attachments": {},
   "metadata": {
    "datalore": {
     "node_id": "yZrm2pXZTdw8Wc0ASCes7g",
     "type": "MD",
     "hide_input_from_viewers": false,
     "hide_output_from_viewers": false
    }
   }
  },
  {
   "cell_type": "code",
   "source": [
    "dataframe = pd.read_csv(INPUT_FILE_NAME)\n",
    "dataframe = dataframe.drop(\"Unnamed: 0\", axis=1)\n",
    "dataframe.head()"
   ],
   "execution_count": null,
   "outputs": [],
   "metadata": {
    "datalore": {
     "node_id": "pTqaa8GP2fBssLnUPRGAAn",
     "type": "CODE",
     "hide_input_from_viewers": false,
     "hide_output_from_viewers": false
    }
   }
  },
  {
   "cell_type": "markdown",
   "source": [
    "### Encode of the Class into integer"
   ],
   "attachments": {},
   "metadata": {
    "datalore": {
     "node_id": "XC7qXH5oMTf9BbHH7xWGvN",
     "type": "MD",
     "hide_input_from_viewers": false,
     "hide_output_from_viewers": false
    }
   }
  },
  {
   "cell_type": "code",
   "source": [
    "def encode_spam(boolean: bool):\n",
    "    if boolean:\n",
    "        return 1\n",
    "    else:\n",
    "        return 0\n",
    "\n",
    "\n",
    "dataframe[\"label\"] = dataframe.spam.apply(lambda x: encode_spam(x))\n",
    "dataframe.head()"
   ],
   "execution_count": null,
   "outputs": [],
   "metadata": {
    "datalore": {
     "node_id": "jsomuSdSdiF2d8pR4yagwL",
     "type": "CODE",
     "hide_input_from_viewers": false,
     "hide_output_from_viewers": false
    }
   }
  },
  {
   "cell_type": "markdown",
   "source": [
    "# Transformer Model- Generation"
   ],
   "attachments": {},
   "metadata": {
    "datalore": {
     "node_id": "Transformer Model- Generation",
     "type": "MD",
     "hide_input_from_viewers": false,
     "hide_output_from_viewers": false,
     "sheet_delimiter": true
    }
   }
  },
  {
   "cell_type": "markdown",
   "source": [
    "# Definition of the AutoKeras Model\n",
    "## Input Objects"
   ],
   "attachments": {},
   "metadata": {
    "datalore": {
     "node_id": "Fe9RfXKuy5vt8oBkGLVGgD",
     "type": "MD",
     "hide_input_from_viewers": false,
     "hide_output_from_viewers": false
    }
   }
  },
  {
   "cell_type": "code",
   "source": [
    "meta_txt_input = ak.TextInput()\n",
    "content_txt_input = ak.TextInput()"
   ],
   "execution_count": null,
   "outputs": [],
   "metadata": {
    "datalore": {
     "node_id": "ALUsCOjAuVUi0i35QolVVb",
     "type": "CODE",
     "hide_input_from_viewers": false,
     "hide_output_from_viewers": false
    }
   }
  },
  {
   "cell_type": "markdown",
   "source": [
    "## Processing Block"
   ],
   "attachments": {},
   "metadata": {
    "datalore": {
     "node_id": "Gle7DkwGaNkBnjYW8KWg5C",
     "type": "MD",
     "hide_input_from_viewers": false,
     "hide_output_from_viewers": false
    }
   }
  },
  {
   "cell_type": "code",
   "source": [
    "meta_txt_output = ak.TextBlock(block_type=\"transformer\")(meta_txt_input)\n",
    "content_txt_output = ak.TextBlock(block_type=\"transformer\")(content_txt_input)"
   ],
   "execution_count": null,
   "outputs": [],
   "metadata": {
    "datalore": {
     "node_id": "fLEjMAKXRM7J6uQtymi0fZ",
     "type": "CODE",
     "hide_input_from_viewers": false,
     "hide_output_from_viewers": false
    }
   }
  },
  {
   "cell_type": "markdown",
   "source": [
    "## Merge the Output of the Text Blocks"
   ],
   "attachments": {},
   "metadata": {
    "datalore": {
     "node_id": "2chNAGI1PEgt2MAKXFOXVR",
     "type": "MD",
     "hide_input_from_viewers": false,
     "hide_output_from_viewers": false
    }
   }
  },
  {
   "cell_type": "code",
   "source": [
    "merged_output = ak.Merge()([meta_txt_output, content_txt_output])\n",
    "classification_head = ak.ClassificationHead()(merged_output)"
   ],
   "execution_count": null,
   "outputs": [],
   "metadata": {
    "datalore": {
     "node_id": "zxl4rLgYPWGUb2RTJHQKOO",
     "type": "CODE",
     "hide_input_from_viewers": false,
     "hide_output_from_viewers": false
    }
   }
  },
  {
   "cell_type": "markdown",
   "source": [
    "## Combination of the Model"
   ],
   "attachments": {},
   "metadata": {
    "datalore": {
     "node_id": "hqDfCbqDmLLmlxLvQD0xPB",
     "type": "MD",
     "hide_input_from_viewers": false,
     "hide_output_from_viewers": false
    }
   }
  },
  {
   "cell_type": "code",
   "source": [
    "model = ak.AutoModel(\n",
    "    inputs=[meta_txt_input, content_txt_input],\n",
    "    outputs=[classification_head],\n",
    "    overwrite= True,\n",
    "    max_trials= 10\n",
    ")"
   ],
   "execution_count": null,
   "outputs": [],
   "metadata": {
    "datalore": {
     "node_id": "XDcRZXWw5ybkxxpj7VIhql",
     "type": "CODE",
     "hide_input_from_viewers": false,
     "hide_output_from_viewers": false
    }
   }
  },
  {
   "cell_type": "markdown",
   "source": [
    "# Preperation of the Dataset"
   ],
   "attachments": {},
   "metadata": {
    "datalore": {
     "node_id": "Preperation of the Dataset",
     "type": "MD",
     "hide_input_from_viewers": false,
     "hide_output_from_viewers": false,
     "sheet_delimiter": true
    }
   }
  },
  {
   "cell_type": "code",
   "source": [
    "train_df, test_df = np.split(dataframe.sample(frac=1, random_state=RANDOM_STATE),\n",
    "                                     [int(0.8 * len(dataframe))])"
   ],
   "execution_count": null,
   "outputs": [],
   "metadata": {
    "datalore": {
     "node_id": "T96Usof6BouPhVHiETwXgG",
     "type": "CODE",
     "hide_input_from_viewers": false,
     "hide_output_from_viewers": false
    }
   }
  },
  {
   "cell_type": "markdown",
   "source": [
    "# Training of the Model"
   ],
   "attachments": {},
   "metadata": {
    "datalore": {
     "node_id": "Training of the Model",
     "type": "MD",
     "hide_input_from_viewers": false,
     "hide_output_from_viewers": false,
     "sheet_delimiter": true
    }
   }
  },
  {
   "cell_type": "code",
   "source": [
    "model.fit(\n",
    "    [np.array(train_df.metadata), np.array(train_df.content)],\n",
    "    [train_df.spam],\n",
    "    # Split the training data and use the last 15% as validation data.\n",
    "    validation_split=0.15,\n",
    "    epochs=5,\n",
    ")"
   ],
   "execution_count": null,
   "outputs": [],
   "metadata": {
    "datalore": {
     "node_id": "6pKjiJYyZydACYTw23o5gt",
     "type": "CODE",
     "hide_input_from_viewers": false,
     "hide_output_from_viewers": false
    }
   }
  },
  {
   "cell_type": "code",
   "source": [
    "best_model = model.tuner.get_best_model()\n",
    "best_model.save(pathlib.Path.joinpath(OUTPUT_FOLDER_PATH, 'transformer-metadata.tf'))"
   ],
   "execution_count": null,
   "outputs": [],
   "metadata": {
    "datalore": {
     "node_id": "IBQoM8JEoE3xIQuxHU2yrF",
     "type": "CODE",
     "hide_input_from_viewers": false,
     "hide_output_from_viewers": false
    }
   }
  },
  {
   "cell_type": "markdown",
   "source": [
    "# Evaluation"
   ],
   "attachments": {},
   "metadata": {
    "datalore": {
     "node_id": "Evaluation",
     "type": "MD",
     "hide_input_from_viewers": false,
     "hide_output_from_viewers": false,
     "sheet_delimiter": true
    }
   }
  },
  {
   "cell_type": "code",
   "source": [
    "best_model = tf.keras.models.load_model(pathlib.Path.joinpath(OUTPUT_FOLDER_PATH, 'transformer-metadata.tf'))"
   ],
   "execution_count": null,
   "outputs": [],
   "metadata": {
    "datalore": {
     "node_id": "j8JlwWx1RGxXJxgxA8YbEJ",
     "type": "CODE",
     "hide_input_from_viewers": false,
     "hide_output_from_viewers": false
    }
   }
  },
  {
   "cell_type": "code",
   "source": [
    "best_model.evaluate([np.array(test_df.metadata), np.array(test_df.content)], test_df.spam, verbose=0)"
   ],
   "execution_count": null,
   "outputs": [],
   "metadata": {
    "datalore": {
     "node_id": "ctOruhEg1TYWPwQKFQUQvH",
     "type": "CODE",
     "hide_input_from_viewers": false,
     "hide_output_from_viewers": false
    }
   }
  }
 ],
 "metadata": {
  "kernelspec": {
   "display_name": "Python",
   "language": "python",
   "name": "python"
  },
  "datalore": {
   "version": 1,
   "computation_mode": "JUPYTER",
   "package_manager": "pip",
   "base_environment": "default",
   "packages": [
    {
     "name": "numpy",
     "source": "PIP"
    },
    {
     "name": "pandas",
     "source": "PIP"
    },
    {
     "name": "tensorflow",
     "source": "PIP"
    },
    {
     "name": "pydot",
     "source": "PIP"
    },
    {
     "name": "graphviz",
     "source": "PIP"
    },
    {
     "name": "autokeras",
     "source": "PIP"
    }
   ]
  }
 },
 "nbformat": 4,
 "nbformat_minor": 4
}
