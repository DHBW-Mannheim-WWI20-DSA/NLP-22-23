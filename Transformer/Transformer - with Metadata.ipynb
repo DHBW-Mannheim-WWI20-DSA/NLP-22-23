{
 "cells": [
  {
   "cell_type": "markdown",
   "source": [
    "# Transformer Model with Metadata\n",
    "## Notebook SetUp"
   ],
   "metadata": {
    "collapsed": false
   }
  },
  {
   "cell_type": "code",
   "execution_count": 1,
   "metadata": {
    "collapsed": true
   },
   "outputs": [],
   "source": [
    "# !pip install -r requirements.txt"
   ]
  },
  {
   "cell_type": "markdown",
   "source": [
    "## Import of Libraries"
   ],
   "metadata": {
    "collapsed": false
   }
  },
  {
   "cell_type": "code",
   "execution_count": 1,
   "outputs": [],
   "source": [
    "import pathlib\n",
    "import numpy as np\n",
    "import pandas as pd\n",
    "import tensorflow as tf\n",
    "import autokeras as ak"
   ],
   "metadata": {
    "collapsed": false
   }
  },
  {
   "cell_type": "markdown",
   "source": [
    "## Project Constants and Paths\n",
    "### Constants"
   ],
   "metadata": {
    "collapsed": false
   }
  },
  {
   "cell_type": "code",
   "execution_count": 2,
   "outputs": [],
   "source": [
    "RANDOM_STATE = 43\n",
    "INPUT_FILE_NAME = \"emails_mit_Metadaten.csv\"\n",
    "BASE_MODEL_NAME = \"distilbert-base-uncased\"\n",
    "OUTPUT_FOLDER_NAME = \"with meta\""
   ],
   "metadata": {
    "collapsed": false
   }
  },
  {
   "cell_type": "markdown",
   "source": [
    "### Paths"
   ],
   "metadata": {
    "collapsed": false
   }
  },
  {
   "cell_type": "code",
   "execution_count": 3,
   "outputs": [
    {
     "data": {
      "text/plain": "WindowsPath('D:/NLP-22-23/Transformer/emails_mit_Metadaten.csv')"
     },
     "execution_count": 3,
     "metadata": {},
     "output_type": "execute_result"
    }
   ],
   "source": [
    "NOTEBOOK_ROOT_PATH = pathlib.Path.cwd()\n",
    "INPUT_FILE_PATH = NOTEBOOK_ROOT_PATH.joinpath(INPUT_FILE_NAME)\n",
    "OUTPUT_FOLDER_PATH = pathlib.Path.joinpath(NOTEBOOK_ROOT_PATH, OUTPUT_FOLDER_NAME)\n",
    "INPUT_FILE_PATH"
   ],
   "metadata": {
    "collapsed": false
   }
  },
  {
   "cell_type": "markdown",
   "source": [
    "## Import of File to Dataframe (Pandas)"
   ],
   "metadata": {
    "collapsed": false
   }
  },
  {
   "cell_type": "code",
   "execution_count": 5,
   "outputs": [
    {
     "data": {
      "text/plain": "                                            metadata  \\\n0  From 12a1mailbot1@web.de  Thu Aug 22 13:17:22 ...   \n1  From ilug-admin@linux.ie  Thu Aug 22 13:27:39 ...   \n2  From sabrina@mx3.1premio.com  Thu Aug 22 14:44...   \n3  From wsup@playful.com  Thu Aug 22 16:17:00 200...   \n4  From social-admin@linux.ie  Thu Aug 22 16:37:3...   \n\n                                             content   spam  \n0  <!DOCTYPE HTML PUBLIC \"-//W3C//DTD HTML 4.0 Tr...  False  \n1  1) Fight The Risk of Cancer!\\r\\nhttp://www.adc...  False  \n2  1) Fight The Risk of Cancer!\\r\\nhttp://www.adc...  False  \n3  ##############################################...  False  \n4  I thought you might like these:\\r\\n1) Slim Dow...  False  ",
      "text/html": "<div>\n<style scoped>\n    .dataframe tbody tr th:only-of-type {\n        vertical-align: middle;\n    }\n\n    .dataframe tbody tr th {\n        vertical-align: top;\n    }\n\n    .dataframe thead th {\n        text-align: right;\n    }\n</style>\n<table border=\"1\" class=\"dataframe\">\n  <thead>\n    <tr style=\"text-align: right;\">\n      <th></th>\n      <th>metadata</th>\n      <th>content</th>\n      <th>spam</th>\n    </tr>\n  </thead>\n  <tbody>\n    <tr>\n      <th>0</th>\n      <td>From 12a1mailbot1@web.de  Thu Aug 22 13:17:22 ...</td>\n      <td>&lt;!DOCTYPE HTML PUBLIC \"-//W3C//DTD HTML 4.0 Tr...</td>\n      <td>False</td>\n    </tr>\n    <tr>\n      <th>1</th>\n      <td>From ilug-admin@linux.ie  Thu Aug 22 13:27:39 ...</td>\n      <td>1) Fight The Risk of Cancer!\\r\\nhttp://www.adc...</td>\n      <td>False</td>\n    </tr>\n    <tr>\n      <th>2</th>\n      <td>From sabrina@mx3.1premio.com  Thu Aug 22 14:44...</td>\n      <td>1) Fight The Risk of Cancer!\\r\\nhttp://www.adc...</td>\n      <td>False</td>\n    </tr>\n    <tr>\n      <th>3</th>\n      <td>From wsup@playful.com  Thu Aug 22 16:17:00 200...</td>\n      <td>##############################################...</td>\n      <td>False</td>\n    </tr>\n    <tr>\n      <th>4</th>\n      <td>From social-admin@linux.ie  Thu Aug 22 16:37:3...</td>\n      <td>I thought you might like these:\\r\\n1) Slim Dow...</td>\n      <td>False</td>\n    </tr>\n  </tbody>\n</table>\n</div>"
     },
     "execution_count": 5,
     "metadata": {},
     "output_type": "execute_result"
    }
   ],
   "source": [
    "dataframe = pd.read_csv(INPUT_FILE_NAME)\n",
    "dataframe = dataframe.drop(\"Unnamed: 0\", axis=1)\n",
    "dataframe.head()"
   ],
   "metadata": {
    "collapsed": false
   }
  },
  {
   "cell_type": "markdown",
   "source": [
    "### Encode of the Class into integer"
   ],
   "metadata": {
    "collapsed": false
   }
  },
  {
   "cell_type": "code",
   "execution_count": 6,
   "outputs": [
    {
     "data": {
      "text/plain": "                                            metadata  \\\n0  From 12a1mailbot1@web.de  Thu Aug 22 13:17:22 ...   \n1  From ilug-admin@linux.ie  Thu Aug 22 13:27:39 ...   \n2  From sabrina@mx3.1premio.com  Thu Aug 22 14:44...   \n3  From wsup@playful.com  Thu Aug 22 16:17:00 200...   \n4  From social-admin@linux.ie  Thu Aug 22 16:37:3...   \n\n                                             content   spam  label  \n0  <!DOCTYPE HTML PUBLIC \"-//W3C//DTD HTML 4.0 Tr...  False      0  \n1  1) Fight The Risk of Cancer!\\r\\nhttp://www.adc...  False      0  \n2  1) Fight The Risk of Cancer!\\r\\nhttp://www.adc...  False      0  \n3  ##############################################...  False      0  \n4  I thought you might like these:\\r\\n1) Slim Dow...  False      0  ",
      "text/html": "<div>\n<style scoped>\n    .dataframe tbody tr th:only-of-type {\n        vertical-align: middle;\n    }\n\n    .dataframe tbody tr th {\n        vertical-align: top;\n    }\n\n    .dataframe thead th {\n        text-align: right;\n    }\n</style>\n<table border=\"1\" class=\"dataframe\">\n  <thead>\n    <tr style=\"text-align: right;\">\n      <th></th>\n      <th>metadata</th>\n      <th>content</th>\n      <th>spam</th>\n      <th>label</th>\n    </tr>\n  </thead>\n  <tbody>\n    <tr>\n      <th>0</th>\n      <td>From 12a1mailbot1@web.de  Thu Aug 22 13:17:22 ...</td>\n      <td>&lt;!DOCTYPE HTML PUBLIC \"-//W3C//DTD HTML 4.0 Tr...</td>\n      <td>False</td>\n      <td>0</td>\n    </tr>\n    <tr>\n      <th>1</th>\n      <td>From ilug-admin@linux.ie  Thu Aug 22 13:27:39 ...</td>\n      <td>1) Fight The Risk of Cancer!\\r\\nhttp://www.adc...</td>\n      <td>False</td>\n      <td>0</td>\n    </tr>\n    <tr>\n      <th>2</th>\n      <td>From sabrina@mx3.1premio.com  Thu Aug 22 14:44...</td>\n      <td>1) Fight The Risk of Cancer!\\r\\nhttp://www.adc...</td>\n      <td>False</td>\n      <td>0</td>\n    </tr>\n    <tr>\n      <th>3</th>\n      <td>From wsup@playful.com  Thu Aug 22 16:17:00 200...</td>\n      <td>##############################################...</td>\n      <td>False</td>\n      <td>0</td>\n    </tr>\n    <tr>\n      <th>4</th>\n      <td>From social-admin@linux.ie  Thu Aug 22 16:37:3...</td>\n      <td>I thought you might like these:\\r\\n1) Slim Dow...</td>\n      <td>False</td>\n      <td>0</td>\n    </tr>\n  </tbody>\n</table>\n</div>"
     },
     "execution_count": 6,
     "metadata": {},
     "output_type": "execute_result"
    }
   ],
   "source": [
    "def encode_spam(boolean: bool):\n",
    "    if boolean:\n",
    "        return 1\n",
    "    else:\n",
    "        return 0\n",
    "\n",
    "\n",
    "dataframe[\"label\"] = dataframe.spam.apply(lambda x: encode_spam(x))\n",
    "dataframe.head()"
   ],
   "metadata": {
    "collapsed": false
   }
  },
  {
   "cell_type": "markdown",
   "source": [
    "# Definition of the AutoKeras Model\n",
    "## Input Objects"
   ],
   "metadata": {
    "collapsed": false
   }
  },
  {
   "cell_type": "code",
   "execution_count": 7,
   "outputs": [],
   "source": [
    "meta_txt_input = ak.TextInput()\n",
    "content_txt_input = ak.TextInput()"
   ],
   "metadata": {
    "collapsed": false
   }
  },
  {
   "cell_type": "markdown",
   "source": [
    "## Processing Block"
   ],
   "metadata": {
    "collapsed": false
   }
  },
  {
   "cell_type": "code",
   "execution_count": 8,
   "outputs": [],
   "source": [
    "meta_txt_output = ak.TextBlock(block_type=\"transformer\")(meta_txt_input)\n",
    "content_txt_output = ak.TextBlock(block_type=\"transformer\")(content_txt_input)"
   ],
   "metadata": {
    "collapsed": false
   }
  },
  {
   "cell_type": "markdown",
   "source": [
    "## Metrics"
   ],
   "metadata": {
    "collapsed": false
   }
  },
  {
   "cell_type": "code",
   "execution_count": 9,
   "outputs": [],
   "source": [
    "model_metrics = [\n",
    "    tf.keras.metrics.BinaryAccuracy(),\n",
    "    tf.keras.metrics.Precision(),\n",
    "    tf.keras.metrics.Recall(),\n",
    "]"
   ],
   "metadata": {
    "collapsed": false
   }
  },
  {
   "cell_type": "markdown",
   "source": [
    "## Merge the Output of the Text Blocks"
   ],
   "metadata": {
    "collapsed": false
   }
  },
  {
   "cell_type": "code",
   "execution_count": 10,
   "outputs": [],
   "source": [
    "merged_output = ak.Merge()([meta_txt_output, content_txt_output])\n",
    "classification_head = ak.ClassificationHead(\n",
    "    num_classes= 2,\n",
    "    metrics= model_metrics\n",
    ")(merged_output)"
   ],
   "metadata": {
    "collapsed": false
   }
  },
  {
   "cell_type": "markdown",
   "source": [
    "## Combination of the Model"
   ],
   "metadata": {
    "collapsed": false
   }
  },
  {
   "cell_type": "code",
   "execution_count": 11,
   "outputs": [],
   "source": [
    "model = ak.AutoModel(\n",
    "    inputs=[meta_txt_input, content_txt_input],\n",
    "    outputs=[classification_head],\n",
    "    overwrite= True,\n",
    "    max_trials= 10,\n",
    "    objective=\"val_binary_accuracy\",\n",
    "    seed=RANDOM_STATE,\n",
    ")"
   ],
   "metadata": {
    "collapsed": false
   }
  },
  {
   "cell_type": "markdown",
   "source": [
    "## Callbacks"
   ],
   "metadata": {
    "collapsed": false
   }
  },
  {
   "cell_type": "code",
   "execution_count": 12,
   "outputs": [],
   "source": [
    "model_callbacks = [\n",
    "    tf.keras.callbacks.CSVLogger(\n",
    "        'meta.log', separator=',', append=True\n",
    "    ),\n",
    "    tf.keras.callbacks.EarlyStopping(monitor='binary_accuracy', patience=3),\n",
    "    tf.keras.callbacks.History(),\n",
    "    tf.keras.callbacks.TensorBoard(log_dir=\"./logs-meta\")\n",
    "]"
   ],
   "metadata": {
    "collapsed": false
   }
  },
  {
   "cell_type": "markdown",
   "source": [
    "# Preperation of the Dataset"
   ],
   "metadata": {
    "collapsed": false
   }
  },
  {
   "cell_type": "code",
   "execution_count": 13,
   "outputs": [],
   "source": [
    "train_df, test_df = np.split(dataframe.sample(frac=1, random_state=RANDOM_STATE),\n",
    "                             [int(0.8 * len(dataframe))])"
   ],
   "metadata": {
    "collapsed": false
   }
  },
  {
   "cell_type": "markdown",
   "source": [
    "# Training of the Model"
   ],
   "metadata": {
    "collapsed": false
   }
  },
  {
   "cell_type": "code",
   "execution_count": 14,
   "outputs": [
    {
     "name": "stdout",
     "output_type": "stream",
     "text": [
      "Trial 10 Complete [00h 00m 17s]\n",
      "val_binary_accuracy: 1.0\n",
      "\n",
      "Best val_binary_accuracy So Far: 1.0\n",
      "Total elapsed time: 00h 02m 50s\n",
      "INFO:tensorflow:Oracle triggered exit\n",
      "Epoch 1/5\n",
      "77/77 [==============================] - 6s 28ms/step - loss: 0.2141 - binary_accuracy: 0.9473 - precision: 0.9470 - recall: 0.9927\n",
      "Epoch 2/5\n",
      "77/77 [==============================] - 2s 27ms/step - loss: 0.0022 - binary_accuracy: 1.0000 - precision: 1.0000 - recall: 1.0000\n",
      "Epoch 3/5\n",
      "77/77 [==============================] - 2s 27ms/step - loss: 4.4469e-04 - binary_accuracy: 1.0000 - precision: 1.0000 - recall: 1.0000\n",
      "Epoch 4/5\n",
      "77/77 [==============================] - 2s 27ms/step - loss: 2.7994e-04 - binary_accuracy: 1.0000 - precision: 1.0000 - recall: 1.0000\n",
      "Epoch 5/5\n",
      "77/77 [==============================] - 2s 25ms/step - loss: 1.9443e-04 - binary_accuracy: 1.0000 - precision: 1.0000 - recall: 1.0000\n",
      "INFO:tensorflow:Assets written to: .\\auto_model\\best_model\\assets\n"
     ]
    }
   ],
   "source": [
    "history = model.fit(\n",
    "    [np.array(train_df.metadata), np.array(train_df.content)],\n",
    "    [train_df.spam],\n",
    "    # Split the training data and use the last 15% as validation data.\n",
    "    validation_split=0.15,\n",
    "    epochs=5,\n",
    "    callbacks=model_callbacks\n",
    ")"
   ],
   "metadata": {
    "collapsed": false
   }
  },
  {
   "cell_type": "markdown",
   "source": [
    "## Save the best Model"
   ],
   "metadata": {
    "collapsed": false
   }
  },
  {
   "cell_type": "code",
   "execution_count": 15,
   "outputs": [
    {
     "name": "stdout",
     "output_type": "stream",
     "text": [
      "INFO:tensorflow:Assets written to: D:\\NLP-22-23\\Transformer\\with meta\\transformer-metadata.tf\\assets\n"
     ]
    }
   ],
   "source": [
    "best_model = model.tuner.get_best_model()\n",
    "best_model.save(pathlib.Path.joinpath(OUTPUT_FOLDER_PATH, 'transformer-metadata.tf'))"
   ],
   "metadata": {
    "collapsed": false
   }
  },
  {
   "cell_type": "markdown",
   "source": [
    "## Print the Structure of the best Modell"
   ],
   "metadata": {
    "collapsed": false
   }
  },
  {
   "cell_type": "code",
   "execution_count": 6,
   "outputs": [
    {
     "name": "stdout",
     "output_type": "stream",
     "text": [
      "You must install pydot (`pip install pydot`) and install graphviz (see instructions at https://graphviz.gitlab.io/download/) for plot_model to work.\n"
     ]
    }
   ],
   "source": [
    "dot_img_file = pathlib.Path.joinpath(OUTPUT_FOLDER_PATH, 'model.png')\n",
    "tf.keras.utils.plot_model(best_model, to_file=dot_img_file, show_shapes=True)"
   ],
   "metadata": {
    "collapsed": false
   }
  },
  {
   "cell_type": "markdown",
   "source": [
    "# Evaluation"
   ],
   "metadata": {
    "collapsed": false
   }
  },
  {
   "cell_type": "code",
   "execution_count": 4,
   "outputs": [],
   "source": [
    "best_model = tf.keras.models.load_model(pathlib.Path.joinpath(OUTPUT_FOLDER_PATH, 'transformer-metadata.tf'))"
   ],
   "metadata": {
    "collapsed": false
   }
  },
  {
   "cell_type": "code",
   "execution_count": 17,
   "outputs": [],
   "source": [
    "results = best_model.evaluate([np.array(test_df.metadata), np.array(test_df.content)], test_df.spam, verbose=0)"
   ],
   "metadata": {
    "collapsed": false
   }
  },
  {
   "cell_type": "code",
   "execution_count": 18,
   "outputs": [
    {
     "name": "stdout",
     "output_type": "stream",
     "text": [
      "\n",
      "--- Model Performance ---\n",
      "loss = 0.0006802839343436062\n",
      "accuracy = 1.0\n",
      "precision = 1.0\n",
      "recall = 1.0\n",
      "\n"
     ]
    }
   ],
   "source": [
    "print(f'''\n",
    "--- Model Performance ---\n",
    "loss = {results[0]}\n",
    "accuracy = {results[1]}\n",
    "precision = {results[2]}\n",
    "recall = {results[3]}\n",
    "''')"
   ],
   "metadata": {
    "collapsed": false
   }
  }
 ],
 "metadata": {
  "kernelspec": {
   "display_name": "Python 3",
   "language": "python",
   "name": "python3"
  },
  "language_info": {
   "codemirror_mode": {
    "name": "ipython",
    "version": 2
   },
   "file_extension": ".py",
   "mimetype": "text/x-python",
   "name": "python",
   "nbconvert_exporter": "python",
   "pygments_lexer": "ipython2",
   "version": "2.7.6"
  }
 },
 "nbformat": 4,
 "nbformat_minor": 0
}
