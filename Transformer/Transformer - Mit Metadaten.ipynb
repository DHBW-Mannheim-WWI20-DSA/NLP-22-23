{
 "cells": [
  {
   "cell_type": "markdown",
   "source": [
    "## Imports"
   ],
   "metadata": {
    "collapsed": false
   }
  },
  {
   "cell_type": "code",
   "execution_count": 1,
   "metadata": {
    "collapsed": true
   },
   "outputs": [],
   "source": [
    "import pathlib\n",
    "\n",
    "import numpy as np\n",
    "import pandas as pd\n",
    "import tensorflow as tf"
   ]
  },
  {
   "cell_type": "markdown",
   "source": [
    "## Check GPU"
   ],
   "metadata": {
    "collapsed": false
   }
  },
  {
   "cell_type": "code",
   "execution_count": 2,
   "outputs": [
    {
     "data": {
      "text/plain": "[PhysicalDevice(name='/physical_device:GPU:0', device_type='GPU')]"
     },
     "execution_count": 2,
     "metadata": {},
     "output_type": "execute_result"
    }
   ],
   "source": [
    "tf.config.list_physical_devices('GPU')"
   ],
   "metadata": {
    "collapsed": false
   }
  },
  {
   "cell_type": "code",
   "execution_count": 3,
   "outputs": [
    {
     "data": {
      "text/plain": "(True, True)"
     },
     "execution_count": 3,
     "metadata": {},
     "output_type": "execute_result"
    }
   ],
   "source": [
    "tf.test.is_built_with_cuda(), tf.test.is_built_with_gpu_support()"
   ],
   "metadata": {
    "collapsed": false
   }
  },
  {
   "cell_type": "markdown",
   "source": [
    "## Constants & Paths"
   ],
   "metadata": {
    "collapsed": false
   }
  },
  {
   "cell_type": "code",
   "execution_count": 20,
   "outputs": [],
   "source": [
    "RANDOM_STATE = 32\n",
    "NOTEBOOK_ROOT_PATH = pathlib.Path.cwd()\n",
    "DATAFILE_PATH = \"../emails_mit_Metadaten/emails_mit_Metadaten.csv\""
   ],
   "metadata": {
    "collapsed": false
   }
  },
  {
   "cell_type": "markdown",
   "source": [
    "## Loading of the Transformed Dataset"
   ],
   "metadata": {
    "collapsed": false
   }
  },
  {
   "cell_type": "code",
   "execution_count": 18,
   "outputs": [
    {
     "data": {
      "text/plain": "                                            metadata  \\\n0  From 12a1mailbot1@web.de  Thu Aug 22 13:17:22 ...   \n1  From ilug-admin@linux.ie  Thu Aug 22 13:27:39 ...   \n2  From sabrina@mx3.1premio.com  Thu Aug 22 14:44...   \n3  From wsup@playful.com  Thu Aug 22 16:17:00 200...   \n4  From social-admin@linux.ie  Thu Aug 22 16:37:3...   \n\n                                             content   spam  \n0  <!DOCTYPE HTML PUBLIC \"-//W3C//DTD HTML 4.0 Tr...  False  \n1  1) Fight The Risk of Cancer!\\nhttp://www.adcli...  False  \n2  1) Fight The Risk of Cancer!\\nhttp://www.adcli...  False  \n3  ##############################################...  False  \n4  I thought you might like these:\\n1) Slim Down ...  False  ",
      "text/html": "<div>\n<style scoped>\n    .dataframe tbody tr th:only-of-type {\n        vertical-align: middle;\n    }\n\n    .dataframe tbody tr th {\n        vertical-align: top;\n    }\n\n    .dataframe thead th {\n        text-align: right;\n    }\n</style>\n<table border=\"1\" class=\"dataframe\">\n  <thead>\n    <tr style=\"text-align: right;\">\n      <th></th>\n      <th>metadata</th>\n      <th>content</th>\n      <th>spam</th>\n    </tr>\n  </thead>\n  <tbody>\n    <tr>\n      <th>0</th>\n      <td>From 12a1mailbot1@web.de  Thu Aug 22 13:17:22 ...</td>\n      <td>&lt;!DOCTYPE HTML PUBLIC \"-//W3C//DTD HTML 4.0 Tr...</td>\n      <td>False</td>\n    </tr>\n    <tr>\n      <th>1</th>\n      <td>From ilug-admin@linux.ie  Thu Aug 22 13:27:39 ...</td>\n      <td>1) Fight The Risk of Cancer!\\nhttp://www.adcli...</td>\n      <td>False</td>\n    </tr>\n    <tr>\n      <th>2</th>\n      <td>From sabrina@mx3.1premio.com  Thu Aug 22 14:44...</td>\n      <td>1) Fight The Risk of Cancer!\\nhttp://www.adcli...</td>\n      <td>False</td>\n    </tr>\n    <tr>\n      <th>3</th>\n      <td>From wsup@playful.com  Thu Aug 22 16:17:00 200...</td>\n      <td>##############################################...</td>\n      <td>False</td>\n    </tr>\n    <tr>\n      <th>4</th>\n      <td>From social-admin@linux.ie  Thu Aug 22 16:37:3...</td>\n      <td>I thought you might like these:\\n1) Slim Down ...</td>\n      <td>False</td>\n    </tr>\n  </tbody>\n</table>\n</div>"
     },
     "execution_count": 18,
     "metadata": {},
     "output_type": "execute_result"
    }
   ],
   "source": [
    "dataframe = pd.read_csv(DATAFILE_PATH)\n",
    "dataframe = dataframe.drop(\"Unnamed: 0\", axis=1)\n",
    "dataframe.head()"
   ],
   "metadata": {
    "collapsed": false
   }
  },
  {
   "cell_type": "markdown",
   "source": [
    "## Splitting into trainable Datasets"
   ],
   "metadata": {
    "collapsed": false
   }
  },
  {
   "cell_type": "code",
   "execution_count": 21,
   "outputs": [],
   "source": [
    "train_df, val_df ,test_df = np.split(dataframe.sample(frac=1, random_state=RANDOM_STATE), [int(0.6*len(dataframe)), int(0.8*len(dataframe))])"
   ],
   "metadata": {
    "collapsed": false
   }
  },
  {
   "cell_type": "markdown",
   "source": [
    "## Transform to Dataset"
   ],
   "metadata": {
    "collapsed": false
   }
  },
  {
   "cell_type": "code",
   "execution_count": 23,
   "outputs": [],
   "source": [
    "def df_to_dataset(df, shuffle=True, batch_size=32):\n",
    "    df = df.copy()\n",
    "    labels = df.pop('spam')\n",
    "    ds = tf.data.Dataset.from_tensor_slices((dict(df), labels))\n",
    "    if shuffle:\n",
    "        ds = ds.shuffle(buffer_size=len(df))\n",
    "    ds = ds.batch(batch_size)\n",
    "    return ds\n",
    "\n",
    "batch_size = 32\n",
    "train_ds = df_to_dataset(train_df, batch_size=batch_size)\n",
    "val_ds = df_to_dataset(val_df, shuffle=False, batch_size=batch_size)\n",
    "test_ds = df_to_dataset(test_df, shuffle=False, batch_size=batch_size)"
   ],
   "metadata": {
    "collapsed": false
   }
  }
 ],
 "metadata": {
  "kernelspec": {
   "display_name": "Python 3",
   "language": "python",
   "name": "python3"
  },
  "language_info": {
   "codemirror_mode": {
    "name": "ipython",
    "version": 2
   },
   "file_extension": ".py",
   "mimetype": "text/x-python",
   "name": "python",
   "nbconvert_exporter": "python",
   "pygments_lexer": "ipython2",
   "version": "2.7.6"
  }
 },
 "nbformat": 4,
 "nbformat_minor": 0
}
