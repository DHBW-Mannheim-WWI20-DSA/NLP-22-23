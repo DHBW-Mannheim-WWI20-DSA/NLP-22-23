{
 "cells": [
  {
   "cell_type": "code",
   "execution_count": 1,
   "metadata": {},
   "outputs": [],
   "source": [
    "import pandas as pd\n",
    "import numpy as np\n",
    "import seaborn as sns\n",
    "\n",
    "import tensorflow as tf\n",
    "from tensorflow.math import confusion_matrix\n",
    "from tensorflow.keras.losses import BinaryCrossentropy\n",
    "\n",
    "from keras.models import Sequential\n",
    "from keras.layers import Embedding, SimpleRNN, TextVectorization, Input, Dense, LSTM, Bidirectional, Dropout\n",
    "from keras.utils.vis_utils import plot_model\n",
    "\n",
    "from sklearn.model_selection import train_test_split\n",
    "from matplotlib import pyplot as plt"
   ]
  },
  {
   "attachments": {},
   "cell_type": "markdown",
   "metadata": {},
   "source": [
    "## Laden und Kombination der Daten"
   ]
  },
  {
   "cell_type": "code",
   "execution_count": 2,
   "metadata": {},
   "outputs": [
    {
     "name": "stdout",
     "output_type": "stream",
     "text": [
      "5728 3051\n"
     ]
    }
   ],
   "source": [
    "data = pd.read_csv(\"../data/without meta/emails.csv\")\n",
    "data_with_meta = pd.read_csv(\"../data/meta/emails_mit_Metadaten.csv\")\n",
    "\n",
    "print(len(data), len(data_with_meta))"
   ]
  },
  {
   "cell_type": "code",
   "execution_count": 24,
   "metadata": {},
   "outputs": [
    {
     "data": {
      "text/html": [
       "<div>\n",
       "<style scoped>\n",
       "    .dataframe tbody tr th:only-of-type {\n",
       "        vertical-align: middle;\n",
       "    }\n",
       "\n",
       "    .dataframe tbody tr th {\n",
       "        vertical-align: top;\n",
       "    }\n",
       "\n",
       "    .dataframe thead th {\n",
       "        text-align: right;\n",
       "    }\n",
       "</style>\n",
       "<table border=\"1\" class=\"dataframe\">\n",
       "  <thead>\n",
       "    <tr style=\"text-align: right;\">\n",
       "      <th></th>\n",
       "      <th>Unnamed: 0</th>\n",
       "      <th>metadata</th>\n",
       "      <th>content</th>\n",
       "      <th>spam</th>\n",
       "    </tr>\n",
       "  </thead>\n",
       "  <tbody>\n",
       "    <tr>\n",
       "      <th>1902</th>\n",
       "      <td>1902</td>\n",
       "      <td>From spamassassin-talk-admin@lists.sourceforge...</td>\n",
       "      <td>\\n\"Craig R.Hughes\" said:\\n\\n&gt; Are you filterin...</td>\n",
       "      <td>True</td>\n",
       "    </tr>\n",
       "    <tr>\n",
       "      <th>1427</th>\n",
       "      <td>1427</td>\n",
       "      <td>From fork-admin@xent.com  Thu Oct  3 12:55:34 ...</td>\n",
       "      <td>&gt;&gt;&gt;&gt;&gt; \"E\" == Eirikur Hallgrimsson &lt;eh@mad.scie...</td>\n",
       "      <td>True</td>\n",
       "    </tr>\n",
       "    <tr>\n",
       "      <th>636</th>\n",
       "      <td>636</td>\n",
       "      <td>From ilug-admin@linux.ie  Mon Oct  7 12:06:33 ...</td>\n",
       "      <td>On Sat, Oct 05, 2002 at 06:06:14PM +0100, Padr...</td>\n",
       "      <td>True</td>\n",
       "    </tr>\n",
       "    <tr>\n",
       "      <th>2866</th>\n",
       "      <td>2866</td>\n",
       "      <td>From rssfeeds@jmason.org  Fri Oct  4 11:02:15 ...</td>\n",
       "      <td>URL: http://www.newsisfree.com/click/-4,851992...</td>\n",
       "      <td>True</td>\n",
       "    </tr>\n",
       "    <tr>\n",
       "      <th>773</th>\n",
       "      <td>773</td>\n",
       "      <td>From spamassassin-talk-admin@lists.sourceforge...</td>\n",
       "      <td>\\n\"Steve Thomas\" said:\\n\\n&gt; I created a user (...</td>\n",
       "      <td>True</td>\n",
       "    </tr>\n",
       "  </tbody>\n",
       "</table>\n",
       "</div>"
      ],
      "text/plain": [
       "      Unnamed: 0                                           metadata  \\\n",
       "1902        1902  From spamassassin-talk-admin@lists.sourceforge...   \n",
       "1427        1427  From fork-admin@xent.com  Thu Oct  3 12:55:34 ...   \n",
       "636          636  From ilug-admin@linux.ie  Mon Oct  7 12:06:33 ...   \n",
       "2866        2866  From rssfeeds@jmason.org  Fri Oct  4 11:02:15 ...   \n",
       "773          773  From spamassassin-talk-admin@lists.sourceforge...   \n",
       "\n",
       "                                                content  spam  \n",
       "1902  \\n\"Craig R.Hughes\" said:\\n\\n> Are you filterin...  True  \n",
       "1427  >>>>> \"E\" == Eirikur Hallgrimsson <eh@mad.scie...  True  \n",
       "636   On Sat, Oct 05, 2002 at 06:06:14PM +0100, Padr...  True  \n",
       "2866  URL: http://www.newsisfree.com/click/-4,851992...  True  \n",
       "773   \\n\"Steve Thomas\" said:\\n\\n> I created a user (...  True  "
      ]
     },
     "execution_count": 24,
     "metadata": {},
     "output_type": "execute_result"
    }
   ],
   "source": [
    "data_with_meta.sample(5)"
   ]
  },
  {
   "cell_type": "code",
   "execution_count": 4,
   "metadata": {},
   "outputs": [],
   "source": [
    "data_with_meta = data_with_meta.rename(columns={\"content\": \"text\"})"
   ]
  },
  {
   "cell_type": "code",
   "execution_count": 33,
   "metadata": {},
   "outputs": [
    {
     "data": {
      "text/html": [
       "<div>\n",
       "<style scoped>\n",
       "    .dataframe tbody tr th:only-of-type {\n",
       "        vertical-align: middle;\n",
       "    }\n",
       "\n",
       "    .dataframe tbody tr th {\n",
       "        vertical-align: top;\n",
       "    }\n",
       "\n",
       "    .dataframe thead th {\n",
       "        text-align: right;\n",
       "    }\n",
       "</style>\n",
       "<table border=\"1\" class=\"dataframe\">\n",
       "  <thead>\n",
       "    <tr style=\"text-align: right;\">\n",
       "      <th></th>\n",
       "      <th>Unnamed: 0</th>\n",
       "      <th>metadata</th>\n",
       "      <th>text</th>\n",
       "      <th>spam</th>\n",
       "    </tr>\n",
       "  </thead>\n",
       "  <tbody>\n",
       "    <tr>\n",
       "      <th>835</th>\n",
       "      <td>835</td>\n",
       "      <td>From rpm-list-admin@freshrpms.net  Wed Oct  9 ...</td>\n",
       "      <td>Since libdvdcss-1.2.0, I have been unable to p...</td>\n",
       "      <td>True</td>\n",
       "    </tr>\n",
       "    <tr>\n",
       "      <th>905</th>\n",
       "      <td>905</td>\n",
       "      <td>From fork-admin@xent.com  Wed Aug 28 18:07:17 ...</td>\n",
       "      <td>Mike Masnick wrote:\\n&gt;Why is it that people do...</td>\n",
       "      <td>True</td>\n",
       "    </tr>\n",
       "    <tr>\n",
       "      <th>1609</th>\n",
       "      <td>1609</td>\n",
       "      <td>From exmh-users-admin@redhat.com  Thu Sep 19 1...</td>\n",
       "      <td>Is there any way to customise the folder table...</td>\n",
       "      <td>True</td>\n",
       "    </tr>\n",
       "    <tr>\n",
       "      <th>1971</th>\n",
       "      <td>1971</td>\n",
       "      <td>From spamassassin-talk-admin@lists.sourceforge...</td>\n",
       "      <td>On Wed, 28 Aug 2002 17:45:49 -0700\\nBrian McNe...</td>\n",
       "      <td>True</td>\n",
       "    </tr>\n",
       "    <tr>\n",
       "      <th>1446</th>\n",
       "      <td>1446</td>\n",
       "      <td>From fork-admin@xent.com  Sat Oct  5 12:38:43 ...</td>\n",
       "      <td>Greetings,\\n\\nCarey wants you to know about a ...</td>\n",
       "      <td>True</td>\n",
       "    </tr>\n",
       "  </tbody>\n",
       "</table>\n",
       "</div>"
      ],
      "text/plain": [
       "      Unnamed: 0                                           metadata  \\\n",
       "835          835  From rpm-list-admin@freshrpms.net  Wed Oct  9 ...   \n",
       "905          905  From fork-admin@xent.com  Wed Aug 28 18:07:17 ...   \n",
       "1609        1609  From exmh-users-admin@redhat.com  Thu Sep 19 1...   \n",
       "1971        1971  From spamassassin-talk-admin@lists.sourceforge...   \n",
       "1446        1446  From fork-admin@xent.com  Sat Oct  5 12:38:43 ...   \n",
       "\n",
       "                                                   text  spam  \n",
       "835   Since libdvdcss-1.2.0, I have been unable to p...  True  \n",
       "905   Mike Masnick wrote:\\n>Why is it that people do...  True  \n",
       "1609  Is there any way to customise the folder table...  True  \n",
       "1971  On Wed, 28 Aug 2002 17:45:49 -0700\\nBrian McNe...  True  \n",
       "1446  Greetings,\\n\\nCarey wants you to know about a ...  True  "
      ]
     },
     "execution_count": 33,
     "metadata": {},
     "output_type": "execute_result"
    }
   ],
   "source": [
    "data_with_meta.sample(5)"
   ]
  },
  {
   "cell_type": "code",
   "execution_count": 5,
   "metadata": {},
   "outputs": [
    {
     "data": {
      "text/plain": [
       "8779"
      ]
     },
     "execution_count": 5,
     "metadata": {},
     "output_type": "execute_result"
    }
   ],
   "source": [
    "combined_data = pd.concat([data, data_with_meta[[\"text\", \"spam\"]]])\n",
    "len(combined_data)"
   ]
  },
  {
   "cell_type": "code",
   "execution_count": 35,
   "metadata": {},
   "outputs": [
    {
     "data": {
      "text/html": [
       "<div>\n",
       "<style scoped>\n",
       "    .dataframe tbody tr th:only-of-type {\n",
       "        vertical-align: middle;\n",
       "    }\n",
       "\n",
       "    .dataframe tbody tr th {\n",
       "        vertical-align: top;\n",
       "    }\n",
       "\n",
       "    .dataframe thead th {\n",
       "        text-align: right;\n",
       "    }\n",
       "</style>\n",
       "<table border=\"1\" class=\"dataframe\">\n",
       "  <thead>\n",
       "    <tr style=\"text-align: right;\">\n",
       "      <th></th>\n",
       "      <th>text</th>\n",
       "      <th>spam</th>\n",
       "    </tr>\n",
       "  </thead>\n",
       "  <tbody>\n",
       "    <tr>\n",
       "      <th>271</th>\n",
       "      <td>Subject: re : your financial security ! high p...</td>\n",
       "      <td>1</td>\n",
       "    </tr>\n",
       "    <tr>\n",
       "      <th>300</th>\n",
       "      <td>Subject: make this investigator work for you ....</td>\n",
       "      <td>1</td>\n",
       "    </tr>\n",
       "    <tr>\n",
       "      <th>3065</th>\n",
       "      <td>Subject: re : new business  h ? lyette ,  i am...</td>\n",
       "      <td>0</td>\n",
       "    </tr>\n",
       "    <tr>\n",
       "      <th>325</th>\n",
       "      <td>NEW - NEW - NEW   IN THE MARKET\\nJUST RELEASED...</td>\n",
       "      <td>0</td>\n",
       "    </tr>\n",
       "    <tr>\n",
       "      <th>2327</th>\n",
       "      <td>Just curious if subject line capitalization ca...</td>\n",
       "      <td>1</td>\n",
       "    </tr>\n",
       "  </tbody>\n",
       "</table>\n",
       "</div>"
      ],
      "text/plain": [
       "                                                   text  spam\n",
       "271   Subject: re : your financial security ! high p...     1\n",
       "300   Subject: make this investigator work for you ....     1\n",
       "3065  Subject: re : new business  h ? lyette ,  i am...     0\n",
       "325   NEW - NEW - NEW   IN THE MARKET\\nJUST RELEASED...     0\n",
       "2327  Just curious if subject line capitalization ca...     1"
      ]
     },
     "execution_count": 35,
     "metadata": {},
     "output_type": "execute_result"
    }
   ],
   "source": [
    "combined_data.sample(5)"
   ]
  },
  {
   "cell_type": "code",
   "execution_count": 6,
   "metadata": {},
   "outputs": [],
   "source": [
    "X = combined_data[\"text\"]\n",
    "y = combined_data[\"spam\"]\n",
    "\n",
    "X_train, X_test, y_train, y_test = train_test_split(X, y, test_size=0.3, random_state=999)"
   ]
  },
  {
   "attachments": {},
   "cell_type": "markdown",
   "metadata": {},
   "source": [
    "## Erstellung des RNN"
   ]
  },
  {
   "cell_type": "code",
   "execution_count": 38,
   "metadata": {},
   "outputs": [],
   "source": [
    "max_tokens = 10000\n",
    "sequence_len = 256\n",
    "\n",
    "vectorization_layer = TextVectorization(max_tokens=max_tokens, output_sequence_length=sequence_len)\n",
    "vectorization_layer.adapt(X_train)"
   ]
  },
  {
   "cell_type": "code",
   "execution_count": 39,
   "metadata": {},
   "outputs": [
    {
     "name": "stdout",
     "output_type": "stream",
     "text": [
      "Model: \"sequential\"\n",
      "_________________________________________________________________\n",
      " Layer (type)                Output Shape              Param #   \n",
      "=================================================================\n",
      " text_vectorization (TextVec  (None, 256)              0         \n",
      " torization)                                                     \n",
      "                                                                 \n",
      " embedding (Embedding)       (None, 256, 256)          2560000   \n",
      "                                                                 \n",
      " bidirectional (Bidirectiona  (None, 256, 256)         394240    \n",
      " l)                                                              \n",
      "                                                                 \n",
      " dropout (Dropout)           (None, 256, 256)          0         \n",
      "                                                                 \n",
      " bidirectional_1 (Bidirectio  (None, 256, 128)         164352    \n",
      " nal)                                                            \n",
      "                                                                 \n",
      " dropout_1 (Dropout)         (None, 256, 128)          0         \n",
      "                                                                 \n",
      " lstm_2 (LSTM)               (None, 32)                20608     \n",
      "                                                                 \n",
      " dense (Dense)               (None, 1)                 33        \n",
      "                                                                 \n",
      "=================================================================\n",
      "Total params: 3,139,233\n",
      "Trainable params: 3,139,233\n",
      "Non-trainable params: 0\n",
      "_________________________________________________________________\n"
     ]
    }
   ],
   "source": [
    "model = Sequential([\n",
    "    Input(dtype=tf.string, shape=1),\n",
    "    vectorization_layer,\n",
    "    Embedding(input_dim=vectorization_layer.vocabulary_size(), output_dim=256, mask_zero=True),\n",
    "    Bidirectional(LSTM(128, return_sequences=True)),\n",
    "    Dropout(0.03),\n",
    "    Bidirectional(LSTM(64, return_sequences=True)),\n",
    "    Dropout(0.002),\n",
    "    LSTM(32),\n",
    "    Dense(1, activation=\"sigmoid\"),\n",
    "])\n",
    "\n",
    "model.summary()"
   ]
  },
  {
   "cell_type": "code",
   "execution_count": 40,
   "metadata": {},
   "outputs": [],
   "source": [
    "model.compile(optimizer=\"adam\", loss=BinaryCrossentropy(), metrics=[\"accuracy\"])"
   ]
  },
  {
   "cell_type": "code",
   "execution_count": 41,
   "metadata": {},
   "outputs": [
    {
     "name": "stdout",
     "output_type": "stream",
     "text": [
      "Epoch 1/10\n",
      "164/164 [==============================] - 189s 1s/step - loss: 0.3057 - accuracy: 0.8807 - val_loss: 0.2113 - val_accuracy: 0.9360\n",
      "Epoch 2/10\n",
      "164/164 [==============================] - 170s 1s/step - loss: 0.1245 - accuracy: 0.9630 - val_loss: 0.1367 - val_accuracy: 0.9599\n",
      "Epoch 3/10\n",
      "164/164 [==============================] - 178s 1s/step - loss: 0.0771 - accuracy: 0.9774 - val_loss: 0.1654 - val_accuracy: 0.9534\n",
      "Epoch 4/10\n",
      "164/164 [==============================] - 154s 939ms/step - loss: 0.0727 - accuracy: 0.9761 - val_loss: 0.1640 - val_accuracy: 0.9588\n",
      "Epoch 5/10\n",
      "164/164 [==============================] - 144s 878ms/step - loss: 0.0456 - accuracy: 0.9856 - val_loss: 0.1813 - val_accuracy: 0.9436\n",
      "Epoch 6/10\n",
      "164/164 [==============================] - 122s 745ms/step - loss: 0.0390 - accuracy: 0.9887 - val_loss: 0.1464 - val_accuracy: 0.9566\n",
      "Epoch 7/10\n",
      "164/164 [==============================] - 119s 726ms/step - loss: 0.0268 - accuracy: 0.9922 - val_loss: 0.1477 - val_accuracy: 0.9544\n",
      "Epoch 8/10\n",
      "164/164 [==============================] - 118s 722ms/step - loss: 0.0119 - accuracy: 0.9973 - val_loss: 0.1763 - val_accuracy: 0.9544\n",
      "Epoch 9/10\n",
      "164/164 [==============================] - 121s 740ms/step - loss: 0.0130 - accuracy: 0.9950 - val_loss: 0.2030 - val_accuracy: 0.9523\n",
      "Epoch 10/10\n",
      "164/164 [==============================] - 120s 730ms/step - loss: 0.0123 - accuracy: 0.9971 - val_loss: 0.1953 - val_accuracy: 0.9534\n"
     ]
    }
   ],
   "source": [
    "history = model.fit(X_train, y_train, epochs=10, validation_split=0.15)"
   ]
  },
  {
   "cell_type": "code",
   "execution_count": 42,
   "metadata": {},
   "outputs": [
    {
     "name": "stderr",
     "output_type": "stream",
     "text": [
      "WARNING:absl:Found untraced functions such as lstm_cell_6_layer_call_fn, lstm_cell_6_layer_call_and_return_conditional_losses, lstm_cell_1_layer_call_fn, lstm_cell_1_layer_call_and_return_conditional_losses, lstm_cell_2_layer_call_fn while saving (showing 5 of 10). These functions will not be directly callable after loading.\n"
     ]
    },
    {
     "name": "stdout",
     "output_type": "stream",
     "text": [
      "INFO:tensorflow:Assets written to: rnn_model_combined.tf\\assets\n"
     ]
    },
    {
     "name": "stderr",
     "output_type": "stream",
     "text": [
      "INFO:tensorflow:Assets written to: rnn_model_combined.tf\\assets\n"
     ]
    }
   ],
   "source": [
    "model.save(\"rnn_model_combined.tf\")"
   ]
  },
  {
   "attachments": {},
   "cell_type": "markdown",
   "metadata": {},
   "source": [
    "## Evaluierung"
   ]
  },
  {
   "cell_type": "code",
   "execution_count": 10,
   "metadata": {},
   "outputs": [
    {
     "name": "stderr",
     "output_type": "stream",
     "text": [
      "c:\\Users\\Daniel\\AppData\\Local\\Programs\\Python\\Python38\\lib\\site-packages\\keras\\saving\\saved_model\\load.py:115: RuntimeWarning: Unexpected end-group tag: Not all data was converted\n",
      "  metadata.ParseFromString(file_content)\n"
     ]
    }
   ],
   "source": [
    "model = tf.keras.models.load_model(\"../Application/models/text/RNN/rnn_model_combined.tf\")"
   ]
  },
  {
   "cell_type": "code",
   "execution_count": 11,
   "metadata": {},
   "outputs": [
    {
     "name": "stdout",
     "output_type": "stream",
     "text": [
      "test loss, test accuracy: [0.21420712769031525, 0.9468488693237305]\n"
     ]
    }
   ],
   "source": [
    "accuracy = model.evaluate(X_test, y_test, verbose=0)\n",
    "print(\"test loss, test accuracy:\", accuracy)"
   ]
  },
  {
   "cell_type": "code",
   "execution_count": 44,
   "metadata": {},
   "outputs": [
    {
     "name": "stdout",
     "output_type": "stream",
     "text": [
      "83/83 [==============================] - 20s 172ms/step\n"
     ]
    }
   ],
   "source": [
    "y_pred = model.predict(X_test)\n",
    "y_pred_bin = np.round(y_pred)\n",
    "\n",
    "confusion = confusion_matrix(labels=y_test, predictions=y_pred_bin)"
   ]
  },
  {
   "cell_type": "code",
   "execution_count": 45,
   "metadata": {},
   "outputs": [
    {
     "data": {
      "image/png": "[encoded data removed]",
      "text/plain": [
       "<Figure size 864x360 with 2 Axes>"
      ]
     },
     "metadata": {
      "needs_background": "light"
     },
     "output_type": "display_data"
    }
   ],
   "source": [
    "plt.figure(figsize=(12,5))\n",
    "sns.heatmap(confusion, annot=True, fmt=\"d\", cmap=plt.cm.Blues)\n",
    "\n",
    "plt.xlabel(\"Vorhergesagte Klasse\")\n",
    "plt.ylabel(\"Annotierte Klasse\")\n",
    "plt.show()"
   ]
  },
  {
   "cell_type": "code",
   "execution_count": 1,
   "metadata": {},
   "outputs": [
    {
     "name": "stdout",
     "output_type": "stream",
     "text": [
      "Precision, Recall: 0.9589519650655022 0.9219143576826196\n"
     ]
    }
   ],
   "source": [
    "tp = confusion[1][1]\n",
    "fp = confusion[0][1]\n",
    "fn = confusion[1][0]\n",
    "\n",
    "precision = tp / (tp + fp)\n",
    "recall = tp / (tp + fn)\n",
    "\n",
    "print(\"Precision, Recall:\", float(precision), float(recall))"
   ]
  }
 ],
 "metadata": {
  "kernelspec": {
   "display_name": "Python 3",
   "language": "python",
   "name": "python3"
  },
  "language_info": {
   "codemirror_mode": {
    "name": "ipython",
    "version": 3
   },
   "file_extension": ".py",
   "mimetype": "text/x-python",
   "name": "python",
   "nbconvert_exporter": "python",
   "pygments_lexer": "ipython3",
   "version": "3.8.6"
  },
  "orig_nbformat": 4,
  "vscode": {
   "interpreter": {
    "hash": "f3aee800614a5485d4e1ef423aa2f6866bf568d4db94c3995a189d53298965bc"
   }
  }
 },
 "nbformat": 4,
 "nbformat_minor": 2
}
