{
 "cells": [
  {
   "cell_type": "code",
   "execution_count": 49,
   "metadata": {},
   "outputs": [],
   "source": [
    "import pandas as pd\n",
    "import numpy as np\n",
    "import seaborn as sns\n",
    "import glob\n",
    "\n",
    "import tensorflow as tf\n",
    "from tensorflow.math import confusion_matrix\n",
    "from tensorflow.keras.losses import BinaryCrossentropy\n",
    "\n",
    "from keras.models import Sequential, Model\n",
    "from keras.layers import Embedding, SimpleRNN, TextVectorization, Input, Dense, LSTM, Bidirectional, Dropout, concatenate\n",
    "from keras.utils.vis_utils import plot_model\n",
    "\n",
    "from sklearn.model_selection import train_test_split\n",
    "from matplotlib import pyplot as plt"
   ]
  },
  {
   "attachments": {},
   "cell_type": "markdown",
   "metadata": {},
   "source": [
    "## Transformation der Daten in CSV"
   ]
  },
  {
   "cell_type": "code",
   "execution_count": null,
   "metadata": {},
   "outputs": [],
   "source": [
    "spam_folder = \"spam/\"\n",
    "ham_folder = \"ham/\"\n",
    "\n",
    "data_with_meta = []\n",
    "\n",
    "spam_emails = glob.glob(spam_folder + \"*\")\n",
    "ham_emails = glob.glob(ham_folder + \"*\")\n",
    "\n",
    "print(len(spam_emails), len(ham_emails))"
   ]
  },
  {
   "cell_type": "code",
   "execution_count": null,
   "metadata": {},
   "outputs": [],
   "source": [
    "for email in spam_emails:\n",
    "    with open(email, \"r\", errors=\"ignore\") as f:\n",
    "        content = f.read()\n",
    "        content = content.split(\"\\n\\n\", maxsplit=1)\n",
    "\n",
    "        meta, text = content\n",
    "        data_with_meta += [(meta, text, False)]\n",
    "\n",
    "for email in ham_emails:\n",
    "    with open(email, \"r\", errors=\"ignore\") as f:\n",
    "        content = f.read()\n",
    "        meta, text = content.split(\"\\n\\n\", maxsplit=1)\n",
    "        data_with_meta += [(meta, text, True)]"
   ]
  },
  {
   "cell_type": "code",
   "execution_count": null,
   "metadata": {},
   "outputs": [],
   "source": [
    "df = pd.DataFrame(data_with_meta, columns=[\"metadata\", \"content\", \"spam\"])\n",
    "df.head(5)"
   ]
  },
  {
   "cell_type": "code",
   "execution_count": null,
   "metadata": {},
   "outputs": [],
   "source": [
    "df.to_csv(\"emails_mit_Metadaten.csv\")"
   ]
  },
  {
   "attachments": {},
   "cell_type": "markdown",
   "metadata": {},
   "source": [
    "## Laden der Daten (mit Metainformationen)"
   ]
  },
  {
   "cell_type": "code",
   "execution_count": 2,
   "metadata": {},
   "outputs": [],
   "source": [
    "data = pd.read_csv(\"emails_mit_Metadaten.csv\")"
   ]
  },
  {
   "cell_type": "code",
   "execution_count": 6,
   "metadata": {},
   "outputs": [],
   "source": [
    "X = data[[\"metadata\", \"content\"]]\n",
    "y = data[\"spam\"]"
   ]
  },
  {
   "cell_type": "code",
   "execution_count": 7,
   "metadata": {},
   "outputs": [
    {
     "data": {
      "text/plain": [
       "<AxesSubplot:ylabel='spam'>"
      ]
     },
     "execution_count": 7,
     "metadata": {},
     "output_type": "execute_result"
    },
    {
     "data": {
      "image/png": "[encoded data removed]",
      "text/plain": [
       "<Figure size 432x288 with 1 Axes>"
      ]
     },
     "metadata": {},
     "output_type": "display_data"
    }
   ],
   "source": [
    "y.value_counts().plot(kind=\"pie\", colormap=\"Blues\")"
   ]
  },
  {
   "cell_type": "code",
   "execution_count": 8,
   "metadata": {},
   "outputs": [
    {
     "data": {
      "text/html": [
       "<div>\n",
       "<style scoped>\n",
       "    .dataframe tbody tr th:only-of-type {\n",
       "        vertical-align: middle;\n",
       "    }\n",
       "\n",
       "    .dataframe tbody tr th {\n",
       "        vertical-align: top;\n",
       "    }\n",
       "\n",
       "    .dataframe thead th {\n",
       "        text-align: right;\n",
       "    }\n",
       "</style>\n",
       "<table border=\"1\" class=\"dataframe\">\n",
       "  <thead>\n",
       "    <tr style=\"text-align: right;\">\n",
       "      <th></th>\n",
       "      <th>Unnamed: 0</th>\n",
       "      <th>metadata</th>\n",
       "      <th>content</th>\n",
       "      <th>spam</th>\n",
       "    </tr>\n",
       "  </thead>\n",
       "  <tbody>\n",
       "    <tr>\n",
       "      <th>764</th>\n",
       "      <td>764</td>\n",
       "      <td>From ilug-admin@linux.ie  Wed Aug 28 10:49:27 ...</td>\n",
       "      <td>Hello folks!\\nI'm new to Linux, so here goes.....</td>\n",
       "      <td>True</td>\n",
       "    </tr>\n",
       "    <tr>\n",
       "      <th>1216</th>\n",
       "      <td>1216</td>\n",
       "      <td>From fork-admin@xent.com  Fri Sep 20 11:32:32 ...</td>\n",
       "      <td>&gt; On Thu, 19 Sep 2002, Bill Stoddard wrote:\\n&gt;...</td>\n",
       "      <td>True</td>\n",
       "    </tr>\n",
       "    <tr>\n",
       "      <th>1381</th>\n",
       "      <td>1381</td>\n",
       "      <td>From fork-admin@xent.com  Mon Sep 30 19:58:59 ...</td>\n",
       "      <td>On Mon, 2002-09-30 at 09:20, Owen Byrne wrote:...</td>\n",
       "      <td>True</td>\n",
       "    </tr>\n",
       "    <tr>\n",
       "      <th>1727</th>\n",
       "      <td>1727</td>\n",
       "      <td>From exmh-workers-admin@redhat.com  Wed Oct  2...</td>\n",
       "      <td>\\nI apologize for not catching up to the curre...</td>\n",
       "      <td>True</td>\n",
       "    </tr>\n",
       "    <tr>\n",
       "      <th>112</th>\n",
       "      <td>112</td>\n",
       "      <td>From 2940catv77@alltel.net  Tue Aug 27 01:34:0...</td>\n",
       "      <td>Legal TV Descarmbler\\n\\nWant to watch Sporting...</td>\n",
       "      <td>False</td>\n",
       "    </tr>\n",
       "  </tbody>\n",
       "</table>\n",
       "</div>"
      ],
      "text/plain": [
       "      Unnamed: 0                                           metadata  \\\n",
       "764          764  From ilug-admin@linux.ie  Wed Aug 28 10:49:27 ...   \n",
       "1216        1216  From fork-admin@xent.com  Fri Sep 20 11:32:32 ...   \n",
       "1381        1381  From fork-admin@xent.com  Mon Sep 30 19:58:59 ...   \n",
       "1727        1727  From exmh-workers-admin@redhat.com  Wed Oct  2...   \n",
       "112          112  From 2940catv77@alltel.net  Tue Aug 27 01:34:0...   \n",
       "\n",
       "                                                content   spam  \n",
       "764   Hello folks!\\nI'm new to Linux, so here goes.....   True  \n",
       "1216  > On Thu, 19 Sep 2002, Bill Stoddard wrote:\\n>...   True  \n",
       "1381  On Mon, 2002-09-30 at 09:20, Owen Byrne wrote:...   True  \n",
       "1727  \\nI apologize for not catching up to the curre...   True  \n",
       "112   Legal TV Descarmbler\\n\\nWant to watch Sporting...  False  "
      ]
     },
     "execution_count": 8,
     "metadata": {},
     "output_type": "execute_result"
    }
   ],
   "source": [
    "data.sample(5)"
   ]
  },
  {
   "cell_type": "code",
   "execution_count": 19,
   "metadata": {},
   "outputs": [],
   "source": [
    "X_train, X_test, y_train, y_test = train_test_split(X, y, test_size=0.3, random_state=999)"
   ]
  },
  {
   "cell_type": "code",
   "execution_count": 20,
   "metadata": {},
   "outputs": [
    {
     "data": {
      "text/html": [
       "<div>\n",
       "<style scoped>\n",
       "    .dataframe tbody tr th:only-of-type {\n",
       "        vertical-align: middle;\n",
       "    }\n",
       "\n",
       "    .dataframe tbody tr th {\n",
       "        vertical-align: top;\n",
       "    }\n",
       "\n",
       "    .dataframe thead th {\n",
       "        text-align: right;\n",
       "    }\n",
       "</style>\n",
       "<table border=\"1\" class=\"dataframe\">\n",
       "  <thead>\n",
       "    <tr style=\"text-align: right;\">\n",
       "      <th></th>\n",
       "      <th>metadata</th>\n",
       "      <th>content</th>\n",
       "    </tr>\n",
       "  </thead>\n",
       "  <tbody>\n",
       "    <tr>\n",
       "      <th>323</th>\n",
       "      <td>From wclimenh@megamail.pt  Mon Sep 16 13:07:44...</td>\n",
       "      <td>&lt;html&gt;&lt;head&gt;&lt;title&gt;::FREE MORTGAGE QUOTE::&lt;/ti...</td>\n",
       "    </tr>\n",
       "    <tr>\n",
       "      <th>92</th>\n",
       "      <td>From tawneemail@yahoo.com  Mon Aug 26 15:49:20...</td>\n",
       "      <td>&lt;TABLE borderColorDark=#0000cc width=700 align...</td>\n",
       "    </tr>\n",
       "    <tr>\n",
       "      <th>752</th>\n",
       "      <td>From ilug-admin@linux.ie  Wed Aug 28 10:48:11 ...</td>\n",
       "      <td>On Tue, 27 Aug 2002, David Neary wrote:\\n\\n&gt; &gt;...</td>\n",
       "    </tr>\n",
       "    <tr>\n",
       "      <th>2538</th>\n",
       "      <td>From rssfeeds@jmason.org  Thu Sep 26 16:33:57 ...</td>\n",
       "      <td>URL: http://boingboing.net/#85494694\\nDate: No...</td>\n",
       "    </tr>\n",
       "    <tr>\n",
       "      <th>24</th>\n",
       "      <td>From iq@insurancemail.net  Fri Aug 23 11:17:41...</td>\n",
       "      <td>This is a multi-part message in MIME format.\\n...</td>\n",
       "    </tr>\n",
       "  </tbody>\n",
       "</table>\n",
       "</div>"
      ],
      "text/plain": [
       "                                               metadata  \\\n",
       "323   From wclimenh@megamail.pt  Mon Sep 16 13:07:44...   \n",
       "92    From tawneemail@yahoo.com  Mon Aug 26 15:49:20...   \n",
       "752   From ilug-admin@linux.ie  Wed Aug 28 10:48:11 ...   \n",
       "2538  From rssfeeds@jmason.org  Thu Sep 26 16:33:57 ...   \n",
       "24    From iq@insurancemail.net  Fri Aug 23 11:17:41...   \n",
       "\n",
       "                                                content  \n",
       "323   <html><head><title>::FREE MORTGAGE QUOTE::</ti...  \n",
       "92    <TABLE borderColorDark=#0000cc width=700 align...  \n",
       "752   On Tue, 27 Aug 2002, David Neary wrote:\\n\\n> >...  \n",
       "2538  URL: http://boingboing.net/#85494694\\nDate: No...  \n",
       "24    This is a multi-part message in MIME format.\\n...  "
      ]
     },
     "execution_count": 20,
     "metadata": {},
     "output_type": "execute_result"
    }
   ],
   "source": [
    "X_train.sample(5)"
   ]
  },
  {
   "attachments": {},
   "cell_type": "markdown",
   "metadata": {},
   "source": [
    "## Erstellung des RNN (mit Metadaten)"
   ]
  },
  {
   "cell_type": "code",
   "execution_count": 40,
   "metadata": {},
   "outputs": [],
   "source": [
    "max_tokens = 10000\n",
    "sequence_len = 256\n",
    "\n",
    "meta_vector_layer = TextVectorization(max_tokens=max_tokens, output_sequence_length=sequence_len)\n",
    "meta_vector_layer.adapt(X_train[\"metadata\"])\n",
    "\n",
    "text_vector_layer = TextVectorization(max_tokens=max_tokens, output_sequence_length=sequence_len)\n",
    "text_vector_layer.adapt(X_train[\"content\"])"
   ]
  },
  {
   "cell_type": "code",
   "execution_count": 41,
   "metadata": {},
   "outputs": [
    {
     "name": "stdout",
     "output_type": "stream",
     "text": [
      "Model: \"model_4\"\n",
      "__________________________________________________________________________________________________\n",
      " Layer (type)                   Output Shape         Param #     Connected to                     \n",
      "==================================================================================================\n",
      " metadata_input (InputLayer)    [(None, 1)]          0           []                               \n",
      "                                                                                                  \n",
      " content_input (InputLayer)     [(None, 1)]          0           []                               \n",
      "                                                                                                  \n",
      " text_vectorization_4 (TextVect  (None, 256)         0           ['metadata_input[0][0]']         \n",
      " orization)                                                                                       \n",
      "                                                                                                  \n",
      " text_vectorization_5 (TextVect  (None, 256)         0           ['content_input[0][0]']          \n",
      " orization)                                                                                       \n",
      "                                                                                                  \n",
      " embedding_10 (Embedding)       (None, 256, 256)     2560000     ['text_vectorization_4[0][0]']   \n",
      "                                                                                                  \n",
      " embedding_11 (Embedding)       (None, 256, 256)     2560000     ['text_vectorization_5[0][0]']   \n",
      "                                                                                                  \n",
      " bidirectional_20 (Bidirectiona  (None, 256, 256)    394240      ['embedding_10[0][0]']           \n",
      " l)                                                                                               \n",
      "                                                                                                  \n",
      " bidirectional_22 (Bidirectiona  (None, 256, 256)    394240      ['embedding_11[0][0]']           \n",
      " l)                                                                                               \n",
      "                                                                                                  \n",
      " dropout_20 (Dropout)           (None, 256, 256)     0           ['bidirectional_20[0][0]']       \n",
      "                                                                                                  \n",
      " dropout_22 (Dropout)           (None, 256, 256)     0           ['bidirectional_22[0][0]']       \n",
      "                                                                                                  \n",
      " bidirectional_21 (Bidirectiona  (None, 256, 128)    164352      ['dropout_20[0][0]']             \n",
      " l)                                                                                               \n",
      "                                                                                                  \n",
      " bidirectional_23 (Bidirectiona  (None, 256, 128)    164352      ['dropout_22[0][0]']             \n",
      " l)                                                                                               \n",
      "                                                                                                  \n",
      " dropout_21 (Dropout)           (None, 256, 128)     0           ['bidirectional_21[0][0]']       \n",
      "                                                                                                  \n",
      " dropout_23 (Dropout)           (None, 256, 128)     0           ['bidirectional_23[0][0]']       \n",
      "                                                                                                  \n",
      " lstm_32 (LSTM)                 (None, 32)           20608       ['dropout_21[0][0]']             \n",
      "                                                                                                  \n",
      " lstm_35 (LSTM)                 (None, 32)           20608       ['dropout_23[0][0]']             \n",
      "                                                                                                  \n",
      " concatenated_layers (Concatena  (None, 64)          0           ['lstm_32[0][0]',                \n",
      " te)                                                              'lstm_35[0][0]']                \n",
      "                                                                                                  \n",
      " dense_6 (Dense)                (None, 1)            65          ['concatenated_layers[0][0]']    \n",
      "                                                                                                  \n",
      "==================================================================================================\n",
      "Total params: 6,278,465\n",
      "Trainable params: 6,278,465\n",
      "Non-trainable params: 0\n",
      "__________________________________________________________________________________________________\n"
     ]
    }
   ],
   "source": [
    "# Defintion of input layers\n",
    "meta_input = Input(dtype=tf.string, shape=1, name=\"metadata_input\")\n",
    "text_input = Input(dtype=tf.string, shape=1, name=\"content_input\")\n",
    "\n",
    "# Definition of layers for meta data\n",
    "branch1 = meta_vector_layer(meta_input)\n",
    "branch1 = Embedding(input_dim=meta_vector_layer.vocabulary_size(), output_dim=256, mask_zero=True)(branch1)\n",
    "branch1 = Bidirectional(LSTM(128, return_sequences=True))(branch1)\n",
    "branch1 = Dropout(0.03)(branch1)\n",
    "branch1 = Bidirectional(LSTM(64, return_sequences=True))(branch1)\n",
    "branch1 = Dropout(0.002)(branch1)\n",
    "branch1 = LSTM(32)(branch1)\n",
    "\n",
    "# Definition of layers for email content\n",
    "branch2 = text_vector_layer(text_input)\n",
    "branch2 = Embedding(input_dim=text_vector_layer.vocabulary_size(), output_dim=256, mask_zero=True)(branch2)\n",
    "branch2 = Bidirectional(LSTM(128, return_sequences=True))(branch2)\n",
    "branch2 = Dropout(0.03)(branch2)\n",
    "branch2 = Bidirectional(LSTM(64, return_sequences=True))(branch2)\n",
    "branch2 = Dropout(0.002)(branch2)\n",
    "branch2 = LSTM(32)(branch2)\n",
    "\n",
    "# Merge layers and define output\n",
    "layers = concatenate([branch1, branch2], name=\"concatenated_layers\")\n",
    "# layers = Dense(128, activation=\"relu\", name=\"dense_csv_img\")(layers)\n",
    "output = Dense(1, activation=\"sigmoid\")(layers)\n",
    "\n",
    "model = Model(inputs=[meta_input, text_input], outputs=output)\n",
    "model.compile(optimizer=\"adam\", loss=BinaryCrossentropy(), metrics=[\"accuracy\"])\n",
    "\n",
    "model.summary()"
   ]
  },
  {
   "cell_type": "code",
   "execution_count": 42,
   "metadata": {},
   "outputs": [
    {
     "data": {
      "image/png": "[encoded data removed]",
      "text/plain": [
       "<IPython.core.display.Image object>"
      ]
     },
     "execution_count": 42,
     "metadata": {},
     "output_type": "execute_result"
    }
   ],
   "source": [
    "plot_model(model, to_file=\"model_rnn_meta_plot.png\", show_shapes=True, show_layer_names=True)"
   ]
  },
  {
   "cell_type": "code",
   "execution_count": 43,
   "metadata": {},
   "outputs": [
    {
     "name": "stdout",
     "output_type": "stream",
     "text": [
      "Epoch 1/3\n",
      "57/57 [==============================] - 413s 7s/step - loss: 0.1845 - accuracy: 0.9289 - val_loss: 0.0514 - val_accuracy: 0.9813\n",
      "Epoch 2/3\n",
      "57/57 [==============================] - 378s 7s/step - loss: 0.0210 - accuracy: 0.9939 - val_loss: 0.0288 - val_accuracy: 0.9969\n",
      "Epoch 3/3\n",
      "57/57 [==============================] - 379s 7s/step - loss: 0.0034 - accuracy: 0.9994 - val_loss: 0.0173 - val_accuracy: 0.9938\n"
     ]
    }
   ],
   "source": [
    "history = model.fit([X_train[\"metadata\"], X_train[\"content\"]], y_train, epochs=3, validation_split=0.15)"
   ]
  },
  {
   "cell_type": "code",
   "execution_count": 45,
   "metadata": {},
   "outputs": [
    {
     "name": "stderr",
     "output_type": "stream",
     "text": [
      "WARNING:absl:Found untraced functions such as lstm_cell_76_layer_call_fn, lstm_cell_76_layer_call_and_return_conditional_losses, lstm_cell_83_layer_call_fn, lstm_cell_83_layer_call_and_return_conditional_losses, lstm_cell_71_layer_call_fn while saving (showing 5 of 20). These functions will not be directly callable after loading.\n"
     ]
    },
    {
     "name": "stdout",
     "output_type": "stream",
     "text": [
      "INFO:tensorflow:Assets written to: rnn_model_meta.tf\\assets\n"
     ]
    },
    {
     "name": "stderr",
     "output_type": "stream",
     "text": [
      "INFO:tensorflow:Assets written to: rnn_model_meta.tf\\assets\n"
     ]
    }
   ],
   "source": [
    "model.save(\"rnn_model_meta.tf\")"
   ]
  },
  {
   "attachments": {},
   "cell_type": "markdown",
   "metadata": {},
   "source": [
    "## Evaluierung"
   ]
  },
  {
   "cell_type": "code",
   "execution_count": 44,
   "metadata": {},
   "outputs": [
    {
     "name": "stdout",
     "output_type": "stream",
     "text": [
      "test loss, test accuracy: [0.025932006537914276, 0.9912663698196411]\n"
     ]
    }
   ],
   "source": [
    "accuracy = model.evaluate([X_test[\"metadata\"], X_test[\"content\"]], y_test, verbose=0)\n",
    "print(\"test loss, test accuracy:\", accuracy)"
   ]
  },
  {
   "cell_type": "code",
   "execution_count": 46,
   "metadata": {},
   "outputs": [
    {
     "name": "stdout",
     "output_type": "stream",
     "text": [
      "29/29 [==============================] - 95s 3s/step\n"
     ]
    }
   ],
   "source": [
    "y_pred = model.predict([X_test[\"metadata\"], X_test[\"content\"]])\n",
    "y_pred_bin = np.round(y_pred)\n",
    "\n",
    "confusion = confusion_matrix(labels=y_test, predictions=y_pred_bin)"
   ]
  },
  {
   "cell_type": "code",
   "execution_count": 47,
   "metadata": {},
   "outputs": [
    {
     "data": {
      "text/plain": [
       "Text(0, 0.5, 'Anzahl der vorhergesagten Werte')"
      ]
     },
     "execution_count": 47,
     "metadata": {},
     "output_type": "execute_result"
    },
    {
     "data": {
      "image/png": "[encoded data removed]",
      "text/plain": [
       "<Figure size 792x360 with 1 Axes>"
      ]
     },
     "metadata": {
      "needs_background": "light"
     },
     "output_type": "display_data"
    }
   ],
   "source": [
    "plt.figure(figsize=(11,5))\n",
    "plt.hist(y_pred, bins=20)\n",
    "plt.title(\"Histogramm zu den Predictions\")\n",
    "\n",
    "plt.xlabel(\"Wertigkeit der Vorhersage\")\n",
    "plt.ylabel(\"Anzahl der vorhergesagten Werte\")"
   ]
  },
  {
   "cell_type": "code",
   "execution_count": 48,
   "metadata": {},
   "outputs": [
    {
     "data": {
      "image/png": "[encoded data removed]",
      "text/plain": [
       "<Figure size 864x360 with 2 Axes>"
      ]
     },
     "metadata": {
      "needs_background": "light"
     },
     "output_type": "display_data"
    }
   ],
   "source": [
    "plt.figure(figsize=(12,5))\n",
    "sns.heatmap(confusion, annot=True, fmt=\"d\", cmap=plt.cm.Blues)\n",
    "\n",
    "plt.xlabel(\"Vorhergesagte Klasse\")\n",
    "plt.ylabel(\"Annotierte Klasse\")\n",
    "plt.show()"
   ]
  },
  {
   "attachments": {},
   "cell_type": "markdown",
   "metadata": {},
   "source": [
    "## Vergleich zu Modell ohne Metadaten"
   ]
  },
  {
   "cell_type": "code",
   "execution_count": 50,
   "metadata": {},
   "outputs": [
    {
     "name": "stdout",
     "output_type": "stream",
     "text": [
      "Model: \"sequential_2\"\n",
      "_________________________________________________________________\n",
      " Layer (type)                Output Shape              Param #   \n",
      "=================================================================\n",
      " text_vectorization_5 (TextV  (None, 256)              0         \n",
      " ectorization)                                                   \n",
      "                                                                 \n",
      " embedding_12 (Embedding)    (None, 256, 256)          2560000   \n",
      "                                                                 \n",
      " bidirectional_24 (Bidirecti  (None, 256, 256)         394240    \n",
      " onal)                                                           \n",
      "                                                                 \n",
      " dropout_24 (Dropout)        (None, 256, 256)          0         \n",
      "                                                                 \n",
      " bidirectional_25 (Bidirecti  (None, 256, 128)         164352    \n",
      " onal)                                                           \n",
      "                                                                 \n",
      " dropout_25 (Dropout)        (None, 256, 128)          0         \n",
      "                                                                 \n",
      " lstm_38 (LSTM)              (None, 32)                20608     \n",
      "                                                                 \n",
      " dense_7 (Dense)             (None, 1)                 33        \n",
      "                                                                 \n",
      "=================================================================\n",
      "Total params: 3,139,233\n",
      "Trainable params: 3,139,233\n",
      "Non-trainable params: 0\n",
      "_________________________________________________________________\n"
     ]
    }
   ],
   "source": [
    "model_without_meta = Sequential([\n",
    "    Input(dtype=tf.string, shape=1, name=\"content_input\"),\n",
    "    text_vector_layer,\n",
    "    Embedding(input_dim=text_vector_layer.vocabulary_size(), output_dim=256, mask_zero=True),\n",
    "    Bidirectional(LSTM(128, return_sequences=True)),\n",
    "    Dropout(0.03),\n",
    "    Bidirectional(LSTM(64, return_sequences=True)),\n",
    "    Dropout(0.002),\n",
    "    LSTM(32),\n",
    "    Dense(1, activation=\"sigmoid\"),\n",
    "])\n",
    "\n",
    "model_without_meta.compile(optimizer=\"adam\", loss=BinaryCrossentropy(), metrics=[\"accuracy\"])\n",
    "model_without_meta.summary()"
   ]
  },
  {
   "cell_type": "code",
   "execution_count": 51,
   "metadata": {},
   "outputs": [
    {
     "name": "stdout",
     "output_type": "stream",
     "text": [
      "Epoch 1/3\n",
      "57/57 [==============================] - 411s 7s/step - loss: 0.2937 - accuracy: 0.9013 - val_loss: 0.1289 - val_accuracy: 0.9502\n",
      "Epoch 2/3\n",
      "57/57 [==============================] - 380s 7s/step - loss: 0.0470 - accuracy: 0.9890 - val_loss: 0.1749 - val_accuracy: 0.9533\n",
      "Epoch 3/3\n",
      "57/57 [==============================] - 386s 7s/step - loss: 0.0322 - accuracy: 0.9939 - val_loss: 0.0310 - val_accuracy: 0.9907\n"
     ]
    }
   ],
   "source": [
    "history = model_without_meta.fit(X_train[\"content\"], y_train, epochs=3, validation_split=0.15)"
   ]
  },
  {
   "cell_type": "code",
   "execution_count": 53,
   "metadata": {},
   "outputs": [
    {
     "name": "stdout",
     "output_type": "stream",
     "text": [
      "test loss, test accuracy: [0.06331804394721985, 0.9836244583129883]\n"
     ]
    }
   ],
   "source": [
    "accuracy = model_without_meta.evaluate(X_test[\"content\"], y_test, verbose=0)\n",
    "print(\"test loss, test accuracy:\", accuracy)"
   ]
  },
  {
   "attachments": {},
   "cell_type": "markdown",
   "metadata": {},
   "source": [
    "## Konklusion"
   ]
  },
  {
   "attachments": {},
   "cell_type": "markdown",
   "metadata": {},
   "source": [
    "Die Ergebnisse zwischen einem RNN-Modell mit bzw. ohne Berücksichtigung der Metadaten sind relativ ähnlich. In beiden Fällen kann mit einer Accuracy von circa 99% ein gutes Ergebnis erzielt werden, wenngleich fraglich ist, ob dieses auch in der Realität so ausfallen würde."
   ]
  },
  {
   "attachments": {},
   "cell_type": "markdown",
   "metadata": {},
   "source": [
    "| Modell | Daten | Accuracy |\n",
    "| --- | --- | --- |\n",
    "| RNN mit Metadaten | Training | 0.994 |\n",
    "| RNN mit Metadaten | Testing | 0.991 |\n",
    "| RNN ohne Metadaten | Training | 0.991 |\n",
    "| RNN ohne Metadaten | Testing | 0.984 |"
   ]
  },
  {
   "attachments": {},
   "cell_type": "markdown",
   "metadata": {},
   "source": [
    "Es kann gefolgert werden, dass die Metadaten zur Klassifikation von Spam nur einen geringen Einfluss haben, dennoch die Performance von Modellen positiv beeinflussen können."
   ]
  }
 ],
 "metadata": {
  "kernelspec": {
   "display_name": "Python 3",
   "language": "python",
   "name": "python3"
  },
  "language_info": {
   "codemirror_mode": {
    "name": "ipython",
    "version": 3
   },
   "file_extension": ".py",
   "mimetype": "text/x-python",
   "name": "python",
   "nbconvert_exporter": "python",
   "pygments_lexer": "ipython3",
   "version": "3.10.4"
  },
  "orig_nbformat": 4,
  "vscode": {
   "interpreter": {
    "hash": "26de051ba29f2982a8de78e945f0abaf191376122a1563185a90213a26c5da77"
   }
  }
 },
 "nbformat": 4,
 "nbformat_minor": 2
}
