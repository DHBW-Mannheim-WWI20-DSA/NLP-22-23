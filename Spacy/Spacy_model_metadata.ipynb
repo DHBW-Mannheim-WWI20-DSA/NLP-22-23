{
  "cells": [
    {
      "cell_type": "markdown",
      "metadata": {
        "id": "7GkH6LNUw2TZ"
      },
      "source": [
        "#Spacy models trained on dataset with metadata"
      ]
    },
    {
      "cell_type": "code",
      "execution_count": 6,
      "metadata": {
        "colab": {
          "base_uri": "https://localhost:8080/"
        },
        "id": "4MwMaa67ZeMO",
        "outputId": "ad2f0160-25f1-487c-9a2a-81f843711485"
      },
      "outputs": [
        {
          "name": "stdout",
          "output_type": "stream",
          "text": [
            "Drive already mounted at /content/drive; to attempt to forcibly remount, call drive.mount(\"/content/drive\", force_remount=True).\n"
          ]
        }
      ],
      "source": [
        "from google.colab import drive\n",
        "drive.mount('/content/drive')"
      ]
    },
    {
      "cell_type": "markdown",
      "metadata": {
        "id": "Z-VdwVp4ck5A"
      },
      "source": [
        "Install Spacy\n"
      ]
    },
    {
      "cell_type": "code",
      "execution_count": null,
      "metadata": {
        "id": "qGqwW7IEYAds"
      },
      "outputs": [],
      "source": [
        "!pip install -U pip setuptools wheel\n",
        "!pip install -U 'spacy[cuda-autodetect,transformers,lookups]'\n",
        "!python -m spacy download en_core_web_sm\n",
        "\n"
      ]
    },
    {
      "cell_type": "markdown",
      "metadata": {
        "id": "1LVsS8dkSm13"
      },
      "source": [
        "Import modules"
      ]
    },
    {
      "cell_type": "code",
      "execution_count": 8,
      "metadata": {
        "id": "qCKVc4h1dWmY"
      },
      "outputs": [],
      "source": [
        "import spacy\n",
        "import pandas as pd\n",
        "import nltk\n",
        "import random\n",
        "import string\n",
        "import numpy as np\n",
        "import seaborn as sns\n",
        "from spacy.util import minibatch\n",
        "from sklearn.ensemble import RandomForestClassifier\n",
        "from sklearn.svm import SVC\n",
        "from spacy.lang.en import English\n",
        "from sklearn.feature_extraction.text import CountVectorizer,TfidfVectorizer\n",
        "from sklearn.base import TransformerMixin\n",
        "import matplotlib.pyplot as plt\n",
        "from sklearn.metrics import precision_score, recall_score, plot_confusion_matrix, classification_report, accuracy_score, f1_score, confusion_matrix\n",
        "from sklearn import metrics\n",
        "from sklearn.model_selection import train_test_split\n",
        "from sklearn.linear_model import LogisticRegression\n",
        "from sklearn.pipeline import Pipeline\n",
        "from sklearn import metrics\n",
        "%matplotlib inline\n"
      ]
    },
    {
      "cell_type": "code",
      "execution_count": 56,
      "metadata": {
        "colab": {
          "base_uri": "https://localhost:8080/",
          "height": 206
        },
        "id": "cQVToLaPbsYS",
        "outputId": "55612abf-f3f8-4596-b95a-c7fb93f4ae4c"
      },
      "outputs": [
        {
          "data": {
            "text/html": [
              "\n",
              "  <div id=\"df-0a59913e-3d3b-4818-a681-4060ce168759\">\n",
              "    <div class=\"colab-df-container\">\n",
              "      <div>\n",
              "<style scoped>\n",
              "    .dataframe tbody tr th:only-of-type {\n",
              "        vertical-align: middle;\n",
              "    }\n",
              "\n",
              "    .dataframe tbody tr th {\n",
              "        vertical-align: top;\n",
              "    }\n",
              "\n",
              "    .dataframe thead th {\n",
              "        text-align: right;\n",
              "    }\n",
              "</style>\n",
              "<table border=\"1\" class=\"dataframe\">\n",
              "  <thead>\n",
              "    <tr style=\"text-align: right;\">\n",
              "      <th></th>\n",
              "      <th>metadata</th>\n",
              "      <th>content</th>\n",
              "      <th>spam</th>\n",
              "    </tr>\n",
              "  </thead>\n",
              "  <tbody>\n",
              "    <tr>\n",
              "      <th>0</th>\n",
              "      <td>From 12a1mailbot1@web.de  Thu Aug 22 13:17:22 ...</td>\n",
              "      <td>&lt;!DOCTYPE HTML PUBLIC \"-//W3C//DTD HTML 4.0 Tr...</td>\n",
              "      <td>False</td>\n",
              "    </tr>\n",
              "    <tr>\n",
              "      <th>1</th>\n",
              "      <td>From ilug-admin@linux.ie  Thu Aug 22 13:27:39 ...</td>\n",
              "      <td>1) Fight The Risk of Cancer!\\nhttp://www.adcli...</td>\n",
              "      <td>False</td>\n",
              "    </tr>\n",
              "    <tr>\n",
              "      <th>2</th>\n",
              "      <td>From sabrina@mx3.1premio.com  Thu Aug 22 14:44...</td>\n",
              "      <td>1) Fight The Risk of Cancer!\\nhttp://www.adcli...</td>\n",
              "      <td>False</td>\n",
              "    </tr>\n",
              "    <tr>\n",
              "      <th>3</th>\n",
              "      <td>From wsup@playful.com  Thu Aug 22 16:17:00 200...</td>\n",
              "      <td>##############################################...</td>\n",
              "      <td>False</td>\n",
              "    </tr>\n",
              "    <tr>\n",
              "      <th>4</th>\n",
              "      <td>From social-admin@linux.ie  Thu Aug 22 16:37:3...</td>\n",
              "      <td>I thought you might like these:\\n1) Slim Down ...</td>\n",
              "      <td>False</td>\n",
              "    </tr>\n",
              "  </tbody>\n",
              "</table>\n",
              "</div>\n",
              "      <button class=\"colab-df-convert\" onclick=\"convertToInteractive('df-0a59913e-3d3b-4818-a681-4060ce168759')\"\n",
              "              title=\"Convert this dataframe to an interactive table.\"\n",
              "              style=\"display:none;\">\n",
              "        \n",
              "  <svg xmlns=\"http://www.w3.org/2000/svg\" height=\"24px\"viewBox=\"0 0 24 24\"\n",
              "       width=\"24px\">\n",
              "    <path d=\"M0 0h24v24H0V0z\" fill=\"none\"/>\n",
              "    <path d=\"M18.56 5.44l.94 2.06.94-2.06 2.06-.94-2.06-.94-.94-2.06-.94 2.06-2.06.94zm-11 1L8.5 8.5l.94-2.06 2.06-.94-2.06-.94L8.5 2.5l-.94 2.06-2.06.94zm10 10l.94 2.06.94-2.06 2.06-.94-2.06-.94-.94-2.06-.94 2.06-2.06.94z\"/><path d=\"M17.41 7.96l-1.37-1.37c-.4-.4-.92-.59-1.43-.59-.52 0-1.04.2-1.43.59L10.3 9.45l-7.72 7.72c-.78.78-.78 2.05 0 2.83L4 21.41c.39.39.9.59 1.41.59.51 0 1.02-.2 1.41-.59l7.78-7.78 2.81-2.81c.8-.78.8-2.07 0-2.86zM5.41 20L4 18.59l7.72-7.72 1.47 1.35L5.41 20z\"/>\n",
              "  </svg>\n",
              "      </button>\n",
              "      \n",
              "  <style>\n",
              "    .colab-df-container {\n",
              "      display:flex;\n",
              "      flex-wrap:wrap;\n",
              "      gap: 12px;\n",
              "    }\n",
              "\n",
              "    .colab-df-convert {\n",
              "      background-color: #E8F0FE;\n",
              "      border: none;\n",
              "      border-radius: 50%;\n",
              "      cursor: pointer;\n",
              "      display: none;\n",
              "      fill: #1967D2;\n",
              "      height: 32px;\n",
              "      padding: 0 0 0 0;\n",
              "      width: 32px;\n",
              "    }\n",
              "\n",
              "    .colab-df-convert:hover {\n",
              "      background-color: #E2EBFA;\n",
              "      box-shadow: 0px 1px 2px rgba(60, 64, 67, 0.3), 0px 1px 3px 1px rgba(60, 64, 67, 0.15);\n",
              "      fill: #174EA6;\n",
              "    }\n",
              "\n",
              "    [theme=dark] .colab-df-convert {\n",
              "      background-color: #3B4455;\n",
              "      fill: #D2E3FC;\n",
              "    }\n",
              "\n",
              "    [theme=dark] .colab-df-convert:hover {\n",
              "      background-color: #434B5C;\n",
              "      box-shadow: 0px 1px 3px 1px rgba(0, 0, 0, 0.15);\n",
              "      filter: drop-shadow(0px 1px 2px rgba(0, 0, 0, 0.3));\n",
              "      fill: #FFFFFF;\n",
              "    }\n",
              "  </style>\n",
              "\n",
              "      <script>\n",
              "        const buttonEl =\n",
              "          document.querySelector('#df-0a59913e-3d3b-4818-a681-4060ce168759 button.colab-df-convert');\n",
              "        buttonEl.style.display =\n",
              "          google.colab.kernel.accessAllowed ? 'block' : 'none';\n",
              "\n",
              "        async function convertToInteractive(key) {\n",
              "          const element = document.querySelector('#df-0a59913e-3d3b-4818-a681-4060ce168759');\n",
              "          const dataTable =\n",
              "            await google.colab.kernel.invokeFunction('convertToInteractive',\n",
              "                                                     [key], {});\n",
              "          if (!dataTable) return;\n",
              "\n",
              "          const docLinkHtml = 'Like what you see? Visit the ' +\n",
              "            '<a target=\"_blank\" href=https://colab.research.google.com/notebooks/data_table.ipynb>data table notebook</a>'\n",
              "            + ' to learn more about interactive tables.';\n",
              "          element.innerHTML = '';\n",
              "          dataTable['output_type'] = 'display_data';\n",
              "          await google.colab.output.renderOutput(dataTable, element);\n",
              "          const docLink = document.createElement('div');\n",
              "          docLink.innerHTML = docLinkHtml;\n",
              "          element.appendChild(docLink);\n",
              "        }\n",
              "      </script>\n",
              "    </div>\n",
              "  </div>\n",
              "  "
            ],
            "text/plain": [
              "                                            metadata  \\\n",
              "0  From 12a1mailbot1@web.de  Thu Aug 22 13:17:22 ...   \n",
              "1  From ilug-admin@linux.ie  Thu Aug 22 13:27:39 ...   \n",
              "2  From sabrina@mx3.1premio.com  Thu Aug 22 14:44...   \n",
              "3  From wsup@playful.com  Thu Aug 22 16:17:00 200...   \n",
              "4  From social-admin@linux.ie  Thu Aug 22 16:37:3...   \n",
              "\n",
              "                                             content   spam  \n",
              "0  <!DOCTYPE HTML PUBLIC \"-//W3C//DTD HTML 4.0 Tr...  False  \n",
              "1  1) Fight The Risk of Cancer!\\nhttp://www.adcli...  False  \n",
              "2  1) Fight The Risk of Cancer!\\nhttp://www.adcli...  False  \n",
              "3  ##############################################...  False  \n",
              "4  I thought you might like these:\\n1) Slim Down ...  False  "
            ]
          },
          "execution_count": 56,
          "metadata": {},
          "output_type": "execute_result"
        }
      ],
      "source": [
        "#load data without metadata\n",
        "\n",
        "data_1 = pd.read_csv(\"/content/drive/MyDrive/emails_mit_Metadaten.csv\", delimiter=',')\n",
        "data_1 = data_1.drop(\"Unnamed: 0\", axis=1)\n",
        "data_1.head()"
      ]
    },
    {
      "cell_type": "code",
      "execution_count": 68,
      "metadata": {
        "colab": {
          "base_uri": "https://localhost:8080/",
          "height": 206
        },
        "id": "Shp7m6FyUiMw",
        "outputId": "df55023f-a0d5-478a-9e40-92401db75276"
      },
      "outputs": [
        {
          "data": {
            "text/html": [
              "\n",
              "  <div id=\"df-2b510f2a-3155-4145-a191-2d63b69699ed\">\n",
              "    <div class=\"colab-df-container\">\n",
              "      <div>\n",
              "<style scoped>\n",
              "    .dataframe tbody tr th:only-of-type {\n",
              "        vertical-align: middle;\n",
              "    }\n",
              "\n",
              "    .dataframe tbody tr th {\n",
              "        vertical-align: top;\n",
              "    }\n",
              "\n",
              "    .dataframe thead th {\n",
              "        text-align: right;\n",
              "    }\n",
              "</style>\n",
              "<table border=\"1\" class=\"dataframe\">\n",
              "  <thead>\n",
              "    <tr style=\"text-align: right;\">\n",
              "      <th></th>\n",
              "      <th>content</th>\n",
              "      <th>spam</th>\n",
              "      <th>metadata</th>\n",
              "    </tr>\n",
              "  </thead>\n",
              "  <tbody>\n",
              "    <tr>\n",
              "      <th>0</th>\n",
              "      <td>naturally irresistible your corporate identit...</td>\n",
              "      <td>True</td>\n",
              "      <td>None</td>\n",
              "    </tr>\n",
              "    <tr>\n",
              "      <th>1</th>\n",
              "      <td>the stock trading gunslinger  fanny is merril...</td>\n",
              "      <td>True</td>\n",
              "      <td>None</td>\n",
              "    </tr>\n",
              "    <tr>\n",
              "      <th>2</th>\n",
              "      <td>unbelievable new homes made easy  im wanting ...</td>\n",
              "      <td>True</td>\n",
              "      <td>None</td>\n",
              "    </tr>\n",
              "    <tr>\n",
              "      <th>3</th>\n",
              "      <td>4 color printing special  request additional ...</td>\n",
              "      <td>True</td>\n",
              "      <td>None</td>\n",
              "    </tr>\n",
              "    <tr>\n",
              "      <th>4</th>\n",
              "      <td>do not have money , get software cds from her...</td>\n",
              "      <td>True</td>\n",
              "      <td>None</td>\n",
              "    </tr>\n",
              "  </tbody>\n",
              "</table>\n",
              "</div>\n",
              "      <button class=\"colab-df-convert\" onclick=\"convertToInteractive('df-2b510f2a-3155-4145-a191-2d63b69699ed')\"\n",
              "              title=\"Convert this dataframe to an interactive table.\"\n",
              "              style=\"display:none;\">\n",
              "        \n",
              "  <svg xmlns=\"http://www.w3.org/2000/svg\" height=\"24px\"viewBox=\"0 0 24 24\"\n",
              "       width=\"24px\">\n",
              "    <path d=\"M0 0h24v24H0V0z\" fill=\"none\"/>\n",
              "    <path d=\"M18.56 5.44l.94 2.06.94-2.06 2.06-.94-2.06-.94-.94-2.06-.94 2.06-2.06.94zm-11 1L8.5 8.5l.94-2.06 2.06-.94-2.06-.94L8.5 2.5l-.94 2.06-2.06.94zm10 10l.94 2.06.94-2.06 2.06-.94-2.06-.94-.94-2.06-.94 2.06-2.06.94z\"/><path d=\"M17.41 7.96l-1.37-1.37c-.4-.4-.92-.59-1.43-.59-.52 0-1.04.2-1.43.59L10.3 9.45l-7.72 7.72c-.78.78-.78 2.05 0 2.83L4 21.41c.39.39.9.59 1.41.59.51 0 1.02-.2 1.41-.59l7.78-7.78 2.81-2.81c.8-.78.8-2.07 0-2.86zM5.41 20L4 18.59l7.72-7.72 1.47 1.35L5.41 20z\"/>\n",
              "  </svg>\n",
              "      </button>\n",
              "      \n",
              "  <style>\n",
              "    .colab-df-container {\n",
              "      display:flex;\n",
              "      flex-wrap:wrap;\n",
              "      gap: 12px;\n",
              "    }\n",
              "\n",
              "    .colab-df-convert {\n",
              "      background-color: #E8F0FE;\n",
              "      border: none;\n",
              "      border-radius: 50%;\n",
              "      cursor: pointer;\n",
              "      display: none;\n",
              "      fill: #1967D2;\n",
              "      height: 32px;\n",
              "      padding: 0 0 0 0;\n",
              "      width: 32px;\n",
              "    }\n",
              "\n",
              "    .colab-df-convert:hover {\n",
              "      background-color: #E2EBFA;\n",
              "      box-shadow: 0px 1px 2px rgba(60, 64, 67, 0.3), 0px 1px 3px 1px rgba(60, 64, 67, 0.15);\n",
              "      fill: #174EA6;\n",
              "    }\n",
              "\n",
              "    [theme=dark] .colab-df-convert {\n",
              "      background-color: #3B4455;\n",
              "      fill: #D2E3FC;\n",
              "    }\n",
              "\n",
              "    [theme=dark] .colab-df-convert:hover {\n",
              "      background-color: #434B5C;\n",
              "      box-shadow: 0px 1px 3px 1px rgba(0, 0, 0, 0.15);\n",
              "      filter: drop-shadow(0px 1px 2px rgba(0, 0, 0, 0.3));\n",
              "      fill: #FFFFFF;\n",
              "    }\n",
              "  </style>\n",
              "\n",
              "      <script>\n",
              "        const buttonEl =\n",
              "          document.querySelector('#df-2b510f2a-3155-4145-a191-2d63b69699ed button.colab-df-convert');\n",
              "        buttonEl.style.display =\n",
              "          google.colab.kernel.accessAllowed ? 'block' : 'none';\n",
              "\n",
              "        async function convertToInteractive(key) {\n",
              "          const element = document.querySelector('#df-2b510f2a-3155-4145-a191-2d63b69699ed');\n",
              "          const dataTable =\n",
              "            await google.colab.kernel.invokeFunction('convertToInteractive',\n",
              "                                                     [key], {});\n",
              "          if (!dataTable) return;\n",
              "\n",
              "          const docLinkHtml = 'Like what you see? Visit the ' +\n",
              "            '<a target=\"_blank\" href=https://colab.research.google.com/notebooks/data_table.ipynb>data table notebook</a>'\n",
              "            + ' to learn more about interactive tables.';\n",
              "          element.innerHTML = '';\n",
              "          dataTable['output_type'] = 'display_data';\n",
              "          await google.colab.output.renderOutput(dataTable, element);\n",
              "          const docLink = document.createElement('div');\n",
              "          docLink.innerHTML = docLinkHtml;\n",
              "          element.appendChild(docLink);\n",
              "        }\n",
              "      </script>\n",
              "    </div>\n",
              "  </div>\n",
              "  "
            ],
            "text/plain": [
              "                                             content  spam metadata\n",
              "0   naturally irresistible your corporate identit...  True     None\n",
              "1   the stock trading gunslinger  fanny is merril...  True     None\n",
              "2   unbelievable new homes made easy  im wanting ...  True     None\n",
              "3   4 color printing special  request additional ...  True     None\n",
              "4   do not have money , get software cds from her...  True     None"
            ]
          },
          "execution_count": 68,
          "metadata": {},
          "output_type": "execute_result"
        }
      ],
      "source": [
        "#load data without metadata (to later test the models)\n",
        "\n",
        "data_2 = pd.read_csv(\"/content/drive/MyDrive/Uni/emails.csv\", delimiter=',')\n",
        "data_2['text'] = data_2['text'].str.replace('Subject:', '') # remove \"Subject: from column\"\n",
        "data_2.rename(columns={'text': 'content'}, inplace=True)\n",
        "data_2[\"metadata\"] = None\n",
        "data_2['spam'] = [True if x == 1 else False for x in data_2['spam']]\n",
        "data_2.head()"
      ]
    },
    {
      "cell_type": "markdown",
      "metadata": {
        "id": "XtQ8g2v9St3e"
      },
      "source": [
        "Data exploration"
      ]
    },
    {
      "cell_type": "markdown",
      "metadata": {
        "id": "_scndEtXfaEY"
      },
      "source": [
        "Less spam emails than in the dataset, which creates a heavy bias -> detecting the spam emails will be a chellenge\n"
      ]
    },
    {
      "cell_type": "code",
      "execution_count": 11,
      "metadata": {
        "colab": {
          "base_uri": "https://localhost:8080/",
          "height": 317
        },
        "id": "Slgr18hqe9ZA",
        "outputId": "e3659738-4a39-4b25-b34e-cdd03bc82c9a"
      },
      "outputs": [
        {
          "data": {
            "text/html": [
              "<html>\n",
              "<head><meta charset=\"utf-8\" /></head>\n",
              "<body>\n",
              "    <div>            <script src=\"https://cdnjs.cloudflare.com/ajax/libs/mathjax/2.7.5/MathJax.js?config=TeX-AMS-MML_SVG\"></script><script type=\"text/javascript\">if (window.MathJax) {MathJax.Hub.Config({SVG: {font: \"STIX-Web\"}});}</script>                <script type=\"text/javascript\">window.PlotlyConfig = {MathJaxConfig: 'local'};</script>\n",
              "        <script src=\"https://cdn.plot.ly/plotly-2.8.3.min.js\"></script>                <div id=\"5f6f5291-5b61-4d11-988a-a5225a43f6cd\" class=\"plotly-graph-div\" style=\"height:300px; width:500px;\"></div>            <script type=\"text/javascript\">                                    window.PLOTLYENV=window.PLOTLYENV || {};                                    if (document.getElementById(\"5f6f5291-5b61-4d11-988a-a5225a43f6cd\")) {                    Plotly.newPlot(                        \"5f6f5291-5b61-4d11-988a-a5225a43f6cd\",                        [{\"alignmentgroup\":\"True\",\"hovertemplate\":\"variable=spam<br>index=%{x}<br>value=%{y}<extra></extra>\",\"legendgroup\":\"spam\",\"marker\":{\"color\":\"rgb(158,202,225)\",\"pattern\":{\"shape\":\"\"},\"line\":{\"color\":\"rgb(8,48,107)\",\"width\":1.5}},\"name\":\"spam\",\"offsetgroup\":\"spam\",\"orientation\":\"v\",\"showlegend\":true,\"textposition\":\"auto\",\"x\":[true,false],\"xaxis\":\"x\",\"y\":[2551,500],\"yaxis\":\"y\",\"type\":\"bar\",\"opacity\":0.6}],                        {\"template\":{\"data\":{\"bar\":[{\"error_x\":{\"color\":\"#2a3f5f\"},\"error_y\":{\"color\":\"#2a3f5f\"},\"marker\":{\"line\":{\"color\":\"#E5ECF6\",\"width\":0.5},\"pattern\":{\"fillmode\":\"overlay\",\"size\":10,\"solidity\":0.2}},\"type\":\"bar\"}],\"barpolar\":[{\"marker\":{\"line\":{\"color\":\"#E5ECF6\",\"width\":0.5},\"pattern\":{\"fillmode\":\"overlay\",\"size\":10,\"solidity\":0.2}},\"type\":\"barpolar\"}],\"carpet\":[{\"aaxis\":{\"endlinecolor\":\"#2a3f5f\",\"gridcolor\":\"white\",\"linecolor\":\"white\",\"minorgridcolor\":\"white\",\"startlinecolor\":\"#2a3f5f\"},\"baxis\":{\"endlinecolor\":\"#2a3f5f\",\"gridcolor\":\"white\",\"linecolor\":\"white\",\"minorgridcolor\":\"white\",\"startlinecolor\":\"#2a3f5f\"},\"type\":\"carpet\"}],\"choropleth\":[{\"colorbar\":{\"outlinewidth\":0,\"ticks\":\"\"},\"type\":\"choropleth\"}],\"contour\":[{\"colorbar\":{\"outlinewidth\":0,\"ticks\":\"\"},\"colorscale\":[[0.0,\"#0d0887\"],[0.1111111111111111,\"#46039f\"],[0.2222222222222222,\"#7201a8\"],[0.3333333333333333,\"#9c179e\"],[0.4444444444444444,\"#bd3786\"],[0.5555555555555556,\"#d8576b\"],[0.6666666666666666,\"#ed7953\"],[0.7777777777777778,\"#fb9f3a\"],[0.8888888888888888,\"#fdca26\"],[1.0,\"#f0f921\"]],\"type\":\"contour\"}],\"contourcarpet\":[{\"colorbar\":{\"outlinewidth\":0,\"ticks\":\"\"},\"type\":\"contourcarpet\"}],\"heatmap\":[{\"colorbar\":{\"outlinewidth\":0,\"ticks\":\"\"},\"colorscale\":[[0.0,\"#0d0887\"],[0.1111111111111111,\"#46039f\"],[0.2222222222222222,\"#7201a8\"],[0.3333333333333333,\"#9c179e\"],[0.4444444444444444,\"#bd3786\"],[0.5555555555555556,\"#d8576b\"],[0.6666666666666666,\"#ed7953\"],[0.7777777777777778,\"#fb9f3a\"],[0.8888888888888888,\"#fdca26\"],[1.0,\"#f0f921\"]],\"type\":\"heatmap\"}],\"heatmapgl\":[{\"colorbar\":{\"outlinewidth\":0,\"ticks\":\"\"},\"colorscale\":[[0.0,\"#0d0887\"],[0.1111111111111111,\"#46039f\"],[0.2222222222222222,\"#7201a8\"],[0.3333333333333333,\"#9c179e\"],[0.4444444444444444,\"#bd3786\"],[0.5555555555555556,\"#d8576b\"],[0.6666666666666666,\"#ed7953\"],[0.7777777777777778,\"#fb9f3a\"],[0.8888888888888888,\"#fdca26\"],[1.0,\"#f0f921\"]],\"type\":\"heatmapgl\"}],\"histogram\":[{\"marker\":{\"pattern\":{\"fillmode\":\"overlay\",\"size\":10,\"solidity\":0.2}},\"type\":\"histogram\"}],\"histogram2d\":[{\"colorbar\":{\"outlinewidth\":0,\"ticks\":\"\"},\"colorscale\":[[0.0,\"#0d0887\"],[0.1111111111111111,\"#46039f\"],[0.2222222222222222,\"#7201a8\"],[0.3333333333333333,\"#9c179e\"],[0.4444444444444444,\"#bd3786\"],[0.5555555555555556,\"#d8576b\"],[0.6666666666666666,\"#ed7953\"],[0.7777777777777778,\"#fb9f3a\"],[0.8888888888888888,\"#fdca26\"],[1.0,\"#f0f921\"]],\"type\":\"histogram2d\"}],\"histogram2dcontour\":[{\"colorbar\":{\"outlinewidth\":0,\"ticks\":\"\"},\"colorscale\":[[0.0,\"#0d0887\"],[0.1111111111111111,\"#46039f\"],[0.2222222222222222,\"#7201a8\"],[0.3333333333333333,\"#9c179e\"],[0.4444444444444444,\"#bd3786\"],[0.5555555555555556,\"#d8576b\"],[0.6666666666666666,\"#ed7953\"],[0.7777777777777778,\"#fb9f3a\"],[0.8888888888888888,\"#fdca26\"],[1.0,\"#f0f921\"]],\"type\":\"histogram2dcontour\"}],\"mesh3d\":[{\"colorbar\":{\"outlinewidth\":0,\"ticks\":\"\"},\"type\":\"mesh3d\"}],\"parcoords\":[{\"line\":{\"colorbar\":{\"outlinewidth\":0,\"ticks\":\"\"}},\"type\":\"parcoords\"}],\"pie\":[{\"automargin\":true,\"type\":\"pie\"}],\"scatter\":[{\"marker\":{\"colorbar\":{\"outlinewidth\":0,\"ticks\":\"\"}},\"type\":\"scatter\"}],\"scatter3d\":[{\"line\":{\"colorbar\":{\"outlinewidth\":0,\"ticks\":\"\"}},\"marker\":{\"colorbar\":{\"outlinewidth\":0,\"ticks\":\"\"}},\"type\":\"scatter3d\"}],\"scattercarpet\":[{\"marker\":{\"colorbar\":{\"outlinewidth\":0,\"ticks\":\"\"}},\"type\":\"scattercarpet\"}],\"scattergeo\":[{\"marker\":{\"colorbar\":{\"outlinewidth\":0,\"ticks\":\"\"}},\"type\":\"scattergeo\"}],\"scattergl\":[{\"marker\":{\"colorbar\":{\"outlinewidth\":0,\"ticks\":\"\"}},\"type\":\"scattergl\"}],\"scattermapbox\":[{\"marker\":{\"colorbar\":{\"outlinewidth\":0,\"ticks\":\"\"}},\"type\":\"scattermapbox\"}],\"scatterpolar\":[{\"marker\":{\"colorbar\":{\"outlinewidth\":0,\"ticks\":\"\"}},\"type\":\"scatterpolar\"}],\"scatterpolargl\":[{\"marker\":{\"colorbar\":{\"outlinewidth\":0,\"ticks\":\"\"}},\"type\":\"scatterpolargl\"}],\"scatterternary\":[{\"marker\":{\"colorbar\":{\"outlinewidth\":0,\"ticks\":\"\"}},\"type\":\"scatterternary\"}],\"surface\":[{\"colorbar\":{\"outlinewidth\":0,\"ticks\":\"\"},\"colorscale\":[[0.0,\"#0d0887\"],[0.1111111111111111,\"#46039f\"],[0.2222222222222222,\"#7201a8\"],[0.3333333333333333,\"#9c179e\"],[0.4444444444444444,\"#bd3786\"],[0.5555555555555556,\"#d8576b\"],[0.6666666666666666,\"#ed7953\"],[0.7777777777777778,\"#fb9f3a\"],[0.8888888888888888,\"#fdca26\"],[1.0,\"#f0f921\"]],\"type\":\"surface\"}],\"table\":[{\"cells\":{\"fill\":{\"color\":\"#EBF0F8\"},\"line\":{\"color\":\"white\"}},\"header\":{\"fill\":{\"color\":\"#C8D4E3\"},\"line\":{\"color\":\"white\"}},\"type\":\"table\"}]},\"layout\":{\"annotationdefaults\":{\"arrowcolor\":\"#2a3f5f\",\"arrowhead\":0,\"arrowwidth\":1},\"autotypenumbers\":\"strict\",\"coloraxis\":{\"colorbar\":{\"outlinewidth\":0,\"ticks\":\"\"}},\"colorscale\":{\"diverging\":[[0,\"#8e0152\"],[0.1,\"#c51b7d\"],[0.2,\"#de77ae\"],[0.3,\"#f1b6da\"],[0.4,\"#fde0ef\"],[0.5,\"#f7f7f7\"],[0.6,\"#e6f5d0\"],[0.7,\"#b8e186\"],[0.8,\"#7fbc41\"],[0.9,\"#4d9221\"],[1,\"#276419\"]],\"sequential\":[[0.0,\"#0d0887\"],[0.1111111111111111,\"#46039f\"],[0.2222222222222222,\"#7201a8\"],[0.3333333333333333,\"#9c179e\"],[0.4444444444444444,\"#bd3786\"],[0.5555555555555556,\"#d8576b\"],[0.6666666666666666,\"#ed7953\"],[0.7777777777777778,\"#fb9f3a\"],[0.8888888888888888,\"#fdca26\"],[1.0,\"#f0f921\"]],\"sequentialminus\":[[0.0,\"#0d0887\"],[0.1111111111111111,\"#46039f\"],[0.2222222222222222,\"#7201a8\"],[0.3333333333333333,\"#9c179e\"],[0.4444444444444444,\"#bd3786\"],[0.5555555555555556,\"#d8576b\"],[0.6666666666666666,\"#ed7953\"],[0.7777777777777778,\"#fb9f3a\"],[0.8888888888888888,\"#fdca26\"],[1.0,\"#f0f921\"]]},\"colorway\":[\"#636efa\",\"#EF553B\",\"#00cc96\",\"#ab63fa\",\"#FFA15A\",\"#19d3f3\",\"#FF6692\",\"#B6E880\",\"#FF97FF\",\"#FECB52\"],\"font\":{\"color\":\"#2a3f5f\"},\"geo\":{\"bgcolor\":\"white\",\"lakecolor\":\"white\",\"landcolor\":\"#E5ECF6\",\"showlakes\":true,\"showland\":true,\"subunitcolor\":\"white\"},\"hoverlabel\":{\"align\":\"left\"},\"hovermode\":\"closest\",\"mapbox\":{\"style\":\"light\"},\"paper_bgcolor\":\"white\",\"plot_bgcolor\":\"#E5ECF6\",\"polar\":{\"angularaxis\":{\"gridcolor\":\"white\",\"linecolor\":\"white\",\"ticks\":\"\"},\"bgcolor\":\"#E5ECF6\",\"radialaxis\":{\"gridcolor\":\"white\",\"linecolor\":\"white\",\"ticks\":\"\"}},\"scene\":{\"xaxis\":{\"backgroundcolor\":\"#E5ECF6\",\"gridcolor\":\"white\",\"gridwidth\":2,\"linecolor\":\"white\",\"showbackground\":true,\"ticks\":\"\",\"zerolinecolor\":\"white\"},\"yaxis\":{\"backgroundcolor\":\"#E5ECF6\",\"gridcolor\":\"white\",\"gridwidth\":2,\"linecolor\":\"white\",\"showbackground\":true,\"ticks\":\"\",\"zerolinecolor\":\"white\"},\"zaxis\":{\"backgroundcolor\":\"#E5ECF6\",\"gridcolor\":\"white\",\"gridwidth\":2,\"linecolor\":\"white\",\"showbackground\":true,\"ticks\":\"\",\"zerolinecolor\":\"white\"}},\"shapedefaults\":{\"line\":{\"color\":\"#2a3f5f\"}},\"ternary\":{\"aaxis\":{\"gridcolor\":\"white\",\"linecolor\":\"white\",\"ticks\":\"\"},\"baxis\":{\"gridcolor\":\"white\",\"linecolor\":\"white\",\"ticks\":\"\"},\"bgcolor\":\"#E5ECF6\",\"caxis\":{\"gridcolor\":\"white\",\"linecolor\":\"white\",\"ticks\":\"\"}},\"title\":{\"x\":0.05},\"xaxis\":{\"automargin\":true,\"gridcolor\":\"white\",\"linecolor\":\"white\",\"ticks\":\"\",\"title\":{\"standoff\":15},\"zerolinecolor\":\"white\",\"zerolinewidth\":2},\"yaxis\":{\"automargin\":true,\"gridcolor\":\"white\",\"linecolor\":\"white\",\"ticks\":\"\",\"title\":{\"standoff\":15},\"zerolinecolor\":\"white\",\"zerolinewidth\":2}}},\"xaxis\":{\"anchor\":\"y\",\"domain\":[0.0,1.0],\"title\":{\"text\":\"index\"}},\"yaxis\":{\"anchor\":\"x\",\"domain\":[0.0,1.0],\"title\":{\"text\":\"value\"}},\"legend\":{\"title\":{\"text\":\"variable\"},\"tracegroupgap\":0},\"margin\":{\"t\":60},\"barmode\":\"relative\",\"height\":300,\"width\":500,\"title\":{\"text\":\"Spam 0 or 1\"}},                        {\"responsive\": true}                    ).then(function(){\n",
              "                            \n",
              "var gd = document.getElementById('5f6f5291-5b61-4d11-988a-a5225a43f6cd');\n",
              "var x = new MutationObserver(function (mutations, observer) {{\n",
              "        var display = window.getComputedStyle(gd).display;\n",
              "        if (!display || display === 'none') {{\n",
              "            console.log([gd, 'removed!']);\n",
              "            Plotly.purge(gd);\n",
              "            observer.disconnect();\n",
              "        }}\n",
              "}});\n",
              "\n",
              "// Listen for the removal of the full notebook cells\n",
              "var notebookContainer = gd.closest('#notebook-container');\n",
              "if (notebookContainer) {{\n",
              "    x.observe(notebookContainer, {childList: true});\n",
              "}}\n",
              "\n",
              "// Listen for the clearing of the current output cell\n",
              "var outputEl = gd.closest('.output');\n",
              "if (outputEl) {{\n",
              "    x.observe(outputEl, {childList: true});\n",
              "}}\n",
              "\n",
              "                        })                };                            </script>        </div>\n",
              "</body>\n",
              "</html>"
            ]
          },
          "metadata": {},
          "output_type": "display_data"
        }
      ],
      "source": [
        "import plotly.express as px\n",
        "df= data_1['spam'].value_counts()\n",
        "fig = px.bar(df,hover_data=[df.index],width=500,height = 300)\n",
        "fig.update_traces(marker_color='rgb(158,202,225)', marker_line_color='rgb(8,48,107)',\n",
        "                   marker_line_width=1.5, opacity=0.6)\n",
        "fig.update_layout(title='Spam 0 or 1')\n",
        "fig.show()\n",
        "              "
      ]
    },
    {
      "cell_type": "markdown",
      "metadata": {
        "id": "Azs4gdyKf7AY"
      },
      "source": [
        "*Data Preprocessing*\n",
        "\n",
        "1. **Tokenization**\n",
        "\n",
        "---\n",
        "\n",
        "\n",
        "---\n"
      ]
    },
    {
      "cell_type": "markdown",
      "metadata": {
        "id": "BuurqGNMoziv"
      },
      "source": [
        "Tokenization function using spacy and takes in a sentence as input and returns a list of tokens (lemmatized, lowercased, and without stop words or punctuation)"
      ]
    },
    {
      "cell_type": "code",
      "execution_count": 12,
      "metadata": {
        "id": "4YtmcvmzgATE"
      },
      "outputs": [],
      "source": [
        "#Create list of punctuation marks\n",
        "punctuations = string.punctuation\n",
        "\n",
        "# Create list of stopwords\n",
        "#nlp = spacy.load(\"en_core_web_sm\")\n",
        "stop_words = spacy.lang.en.stop_words.STOP_WORDS\n",
        "\n",
        "# Load the English model and create a new parser object\n",
        "parser = spacy.load(\"en_core_web_sm\")\n",
        "\n",
        "# Define the spacy_tokenizer function as before\n",
        "def spacy_tokenizer(sentence):\n",
        "    # Tokenize the input sentence using the parser object\n",
        "    mytokens = parser(sentence)\n",
        "\n",
        "    # Perform lemmatization and lowercasing\n",
        "    mytokens = [ word.lemma_.lower().strip() if word.lemma_ != \"-PRON-\" else word.lower_ for word in mytokens ]\n",
        "\n",
        "    # Remove stop words and punctuations\n",
        "    mytokens = [ word for word in mytokens if word not in stop_words and word not in punctuations ]\n",
        "\n",
        "    # Return the preprocessed list of tokens\n",
        "    return mytokens\n"
      ]
    },
    {
      "cell_type": "markdown",
      "metadata": {
        "id": "TboAo_nro4vV"
      },
      "source": [
        "Custom predictor class that takes in a list of texts (X) and returns a list of cleaned texts (consists of stripping leading and trailing spaces and converting the text to lowercase)."
      ]
    },
    {
      "cell_type": "code",
      "execution_count": 13,
      "metadata": {
        "id": "x4Dk7LgLo-R8"
      },
      "outputs": [],
      "source": [
        "# Custom transformer using spaCy\n",
        "class predictors(TransformerMixin):\n",
        "    def transform(self, X, **transform_params):\n",
        "        # Cleaning Text\n",
        "        return [clean_text(text) for text in X['content']]\n",
        "\n",
        "    def fit(self, X, y=None, **fit_params):\n",
        "        return self\n",
        "\n",
        "    def get_params(self, deep=True):\n",
        "        return {}\n",
        "# Clean the text\n",
        "def clean_text(text):\n",
        "    if type(text) != str:\n",
        "        text = str(text)\n",
        "    # Removing spaces and converting text into lowercase\n",
        "    return text.strip().lower()"
      ]
    },
    {
      "cell_type": "code",
      "execution_count": 14,
      "metadata": {
        "id": "kedo-egVpWeG"
      },
      "outputs": [],
      "source": [
        "# creates a CountVectorizer object with the specified tokenizer function\n",
        "# the output is a matrix of token counts, where each row represents a document and each column represents a token\n",
        "bow_vector = CountVectorizer(tokenizer = spacy_tokenizer, ngram_range=(1,1))\n"
      ]
    },
    {
      "cell_type": "code",
      "execution_count": 15,
      "metadata": {
        "id": "HT5UE_RKpYzM"
      },
      "outputs": [],
      "source": [
        "# creates a TfidfVectorizer object (statistical measure that weights the importance of each word in a document)\n",
        "# the output is a matrix of TF-IDF features, where each row represents a document and each column represents a token\n",
        "tfidf_vector = TfidfVectorizer(tokenizer = spacy_tokenizer)"
      ]
    },
    {
      "cell_type": "markdown",
      "metadata": {
        "id": "nboYFmiHpbuy"
      },
      "source": [
        "**2. Create Pipeline, train and evaluate models**\n",
        "\n",
        "---\n",
        "\n",
        "\n",
        "\n",
        "---\n",
        "\n"
      ]
    },
    {
      "cell_type": "code",
      "execution_count": 60,
      "metadata": {
        "id": "8pfYTbB6qIdY"
      },
      "outputs": [],
      "source": [
        "# split into train and test data\n",
        "X = data_1[['content', 'metadata']] # features to analyze\n",
        "ylabels = data_1['spam'] # labels\n",
        "X_train, X_test, y_train, y_test = train_test_split(X[['content', 'metadata']], ylabels, test_size=0.3)\n",
        "\n",
        "\n",
        "\n"
      ]
    },
    {
      "cell_type": "code",
      "execution_count": 78,
      "metadata": {
        "id": "1Nq1eoAQUzD_"
      },
      "outputs": [],
      "source": [
        "# split into train and test data (for testing)\n",
        "X_test_2_split = data_2[['content', 'metadata']]\n",
        "ylabels_2 = data_2['spam'] # labels\n",
        "X_train_2, X_test_2_split, y_train_2, y_test_2 = train_test_split(X_test_2_split[['content', 'metadata']], ylabels_2, test_size=0.5)\n",
        "\n",
        "\n"
      ]
    },
    {
      "cell_type": "markdown",
      "metadata": {
        "id": "hW_wa_IwW61y"
      },
      "source": [
        "Create a  pipeline which takes the predefined spacy-based components: a cleaner, a vectorizer, and a classifier. Then use several algorithms to train the models."
      ]
    },
    {
      "cell_type": "code",
      "execution_count": 17,
      "metadata": {
        "colab": {
          "base_uri": "https://localhost:8080/"
        },
        "id": "vHS7v_4OqcJX",
        "outputId": "c16cbc3e-95b0-41ed-ed2b-01c700ee2f92"
      },
      "outputs": [
        {
          "data": {
            "text/plain": [
              "Pipeline(steps=[('cleaner', <__main__.predictors object at 0x7f27dcd11550>),\n",
              "                ('vectorizer',\n",
              "                 CountVectorizer(tokenizer=<function spacy_tokenizer at 0x7f27df832430>)),\n",
              "                ('classifier', LogisticRegression())])"
            ]
          },
          "execution_count": 17,
          "metadata": {},
          "output_type": "execute_result"
        }
      ],
      "source": [
        "# Logistic Regression Classifier (bow_vector)\n",
        "classifier = LogisticRegression()\n",
        "pipe = Pipeline([('cleaner', predictors()),\n",
        "                  ('vectorizer', bow_vector),\n",
        "                  ('classifier', classifier)])\n",
        "pipe.fit(X_train, y_train)\n",
        "\n",
        "\n"
      ]
    },
    {
      "cell_type": "code",
      "execution_count": 18,
      "metadata": {
        "colab": {
          "base_uri": "https://localhost:8080/"
        },
        "id": "QYiX5IMaOZEu",
        "outputId": "c5ce73f1-d39a-44cb-fa32-75388afeb7fb"
      },
      "outputs": [
        {
          "name": "stdout",
          "output_type": "stream",
          "text": [
            "Logistic Regression Accuracy: 0.9890829694323144\n",
            "Logistic Regression Precision: 0.9884169884169884\n",
            "Logistic Regression Recall: 0.9986996098829649\n"
          ]
        }
      ],
      "source": [
        "# Predicting using the test dataset with text & metadata\n",
        "predicted = pipe.predict(X_test)\n",
        "\n",
        "\n",
        "# Model Accuracy\n",
        "print(\"Logistic Regression Accuracy:\",metrics.accuracy_score(y_test, predicted))\n",
        "print(\"Logistic Regression Precision:\",metrics.precision_score(y_test, predicted, zero_division=0)) \n",
        "print(\"Logistic Regression Recall:\",metrics.recall_score(y_test, predicted, zero_division=0))"
      ]
    },
    {
      "cell_type": "code",
      "execution_count": 80,
      "metadata": {
        "colab": {
          "base_uri": "https://localhost:8080/"
        },
        "id": "ir-HStLkVaCm",
        "outputId": "2fd8068d-d7f8-44a4-9850-216a9a946c0f"
      },
      "outputs": [
        {
          "name": "stdout",
          "output_type": "stream",
          "text": [
            "Logistic Regression Accuracy: 0.20705307262569833\n",
            "Logistic Regression Precision: 0.16547066272688898\n",
            "Logistic Regression Recall: 0.5714285714285714\n"
          ]
        }
      ],
      "source": [
        "# Predicting using the foreign test dataset with only text \n",
        "predicted = pipe.predict(X_test_2_split)\n",
        "\n",
        "\n",
        "# Model Accuracy\n",
        "# Model Accuracy\n",
        "print(\"Logistic Regression Accuracy:\",metrics.accuracy_score(y_test_2, predicted))\n",
        "print(\"Logistic Regression Precision:\",metrics.precision_score(y_test_2, predicted, zero_division=0)) \n",
        "print(\"Logistic Regression Recall:\",metrics.recall_score(y_test_2, predicted, zero_division=0))\n",
        "\n"
      ]
    },
    {
      "cell_type": "code",
      "execution_count": 82,
      "metadata": {
        "colab": {
          "base_uri": "https://localhost:8080/"
        },
        "id": "TdC-yvRRN814",
        "outputId": "a3670ba3-a75c-4fbe-dec0-4161c1db690e"
      },
      "outputs": [
        {
          "data": {
            "text/plain": [
              "Pipeline(steps=[('cleaner', <__main__.predictors object at 0x7f27d5696c10>),\n",
              "                ('vectorizer',\n",
              "                 CountVectorizer(tokenizer=<function spacy_tokenizer at 0x7f27df832430>)),\n",
              "                ('classifier', RandomForestClassifier(random_state=42))])"
            ]
          },
          "execution_count": 82,
          "metadata": {},
          "output_type": "execute_result"
        }
      ],
      "source": [
        "# Random Forest Classifier (bow_vector)\n",
        "classifier_1 = classifier = RandomForestClassifier(random_state=42)\n",
        "\n",
        "# Create pipeline \n",
        "pipe_1 = Pipeline([(\"cleaner\", predictors()),\n",
        "                 ('vectorizer', bow_vector),\n",
        "                 ('classifier', classifier_1)])\n",
        "\n",
        "# model training\n",
        "pipe_1.fit(X_train,y_train)"
      ]
    },
    {
      "cell_type": "code",
      "execution_count": 83,
      "metadata": {
        "colab": {
          "base_uri": "https://localhost:8080/"
        },
        "id": "wFNtnl4ryAXj",
        "outputId": "a95104f3-41e9-4dc1-c82d-96e318eedfd6"
      },
      "outputs": [
        {
          "name": "stdout",
          "output_type": "stream",
          "text": [
            "Random Forest Accuracy: 0.962882096069869\n",
            "Random Forest Precision: 0.9569620253164557\n",
            "Random Forest Recall: 1.0\n"
          ]
        }
      ],
      "source": [
        "# Predict using the test dataset\n",
        "predicted_1 = pipe_1.predict(X_test)\n",
        "\n",
        "\n",
        "# Model Accuracy\n",
        "print(\"Random Forest Accuracy:\",metrics.accuracy_score(y_test, predicted_1))\n",
        "print(\"Random Forest Precision:\",metrics.precision_score(y_test, predicted_1, zero_division=0)) #however using zero_divsion no value in the output!!\n",
        "print(\"Random Forest Recall:\",metrics.recall_score(y_test, predicted_1, zero_division=0)) #however using zero_divsion no value in the output!!"
      ]
    },
    {
      "cell_type": "code",
      "execution_count": 85,
      "metadata": {
        "colab": {
          "base_uri": "https://localhost:8080/"
        },
        "id": "tdaLl3QRr6ez",
        "outputId": "35533c0d-b3bd-4483-bedd-b3b2b505bd19"
      },
      "outputs": [
        {
          "name": "stdout",
          "output_type": "stream",
          "text": [
            "Random Forest Accuracy: 0.21822625698324022\n",
            "Random Forest Accuracy: 0.22138500179404377\n",
            "Random Forest Accuracy: 0.8994169096209913\n"
          ]
        }
      ],
      "source": [
        "# Predicting using the foreign test dataset with only text \n",
        "predicted_1 = pipe_1.predict(X_test_2_split)\n",
        "\n",
        "\n",
        "# Model Accuracy\n",
        "# Model Accuracy\n",
        "print(\"Random Forest Accuracy:\",metrics.accuracy_score(y_test_2, predicted_1))\n",
        "print(\"Random Forest Accuracy:\",metrics.precision_score(y_test_2, predicted_1, zero_division=0)) \n",
        "print(\"Random Forest Accuracy:\",metrics.recall_score(y_test_2, predicted_1, zero_division=0))"
      ]
    },
    {
      "cell_type": "code",
      "execution_count": null,
      "metadata": {
        "colab": {
          "base_uri": "https://localhost:8080/"
        },
        "id": "th8Dw3wLTbFB",
        "outputId": "6d875397-d44d-4364-fd7f-865fe1475581"
      },
      "outputs": [
        {
          "data": {
            "text/plain": [
              "Pipeline(steps=[('cleaner', <__main__.predictors object at 0x7f5d60e9bdf0>),\n",
              "                ('vectorizer',\n",
              "                 TfidfVectorizer(tokenizer=<function spacy_tokenizer at 0x7f5d5eed94c0>)),\n",
              "                ('classifier', LogisticRegression())])"
            ]
          },
          "execution_count": 103,
          "metadata": {},
          "output_type": "execute_result"
        }
      ],
      "source": [
        "# Logistic Regression Classifier (tfidf_vector)\n",
        "classifier = LogisticRegression()\n",
        "\n",
        "if 'content' not in X.columns:\n",
        "    raise ValueError(\"X must have a 'content' column\")\n",
        "\n",
        "# Create pipeline \n",
        "pipe_2 = Pipeline([(\"cleaner\", predictors()),\n",
        "                 ('vectorizer', tfidf_vector),\n",
        "                 ('classifier', classifier)])\n",
        "\n",
        "# model training \n",
        "pipe_2.fit(X_train,y_train)"
      ]
    },
    {
      "cell_type": "code",
      "execution_count": null,
      "metadata": {
        "colab": {
          "base_uri": "https://localhost:8080/"
        },
        "id": "ye5EWmUrVBnW",
        "outputId": "3df493cd-c8b0-498b-a025-be8ec81f0a25"
      },
      "outputs": [
        {
          "name": "stdout",
          "output_type": "stream",
          "text": [
            "Logistic Regression Accuracy: 0.9366812227074236\n",
            "Logistic Regression Precision: 0.928921568627451\n",
            "Logistic Regression Recall: 1.0\n"
          ]
        }
      ],
      "source": [
        "# Predict using the test dataset\n",
        "predicted_2 = pipe_2.predict(X_test)\n",
        "\n",
        "\n",
        "# Model Accuracy\n",
        "print(\"Logistic Regression Accuracy:\",metrics.accuracy_score(y_test, predicted_2))\n",
        "print(\"Logistic Regression Precision:\",metrics.precision_score(y_test, predicted_2, zero_division=0)) #however using zero_divsion no value in the output!!\n",
        "print(\"Logistic Regression Recall:\",metrics.recall_score(y_test, predicted_2, zero_division=0)) #however using zero_divsion no value in the output!!"
      ]
    },
    {
      "cell_type": "code",
      "execution_count": null,
      "metadata": {
        "id": "-qIi9ngQsL1X"
      },
      "outputs": [],
      "source": [
        "# Predicting using the foreign test dataset with only text \n",
        "predicted_2 = pipe_2.predict(X_test_2_split)\n",
        "\n",
        "\n",
        "# Model Accuracy\n",
        "print(\"Logistic Regression Accuracy:\",metrics.accuracy_score(y_test_2, predicted_2))\n",
        "print(\"Logistic Regression Precision:\",metrics.precision_score(y_test_2, predicted_2, zero_division=0)) \n",
        "print(\"Logistic Regression Recall:\",metrics.recall_score(y_test_2, predicted_2, zero_division=0)"
      ]
    },
    {
      "cell_type": "code",
      "execution_count": null,
      "metadata": {
        "colab": {
          "base_uri": "https://localhost:8080/"
        },
        "id": "XlIcx_5xXvQa",
        "outputId": "76a18c6c-d63a-479c-fe40-a5ce383000e3"
      },
      "outputs": [
        {
          "data": {
            "text/plain": [
              "Pipeline(steps=[('cleaner', <__main__.predictors object at 0x7f5d5b22b3d0>),\n",
              "                ('vectorizer',\n",
              "                 TfidfVectorizer(tokenizer=<function spacy_tokenizer at 0x7f5d5eed94c0>)),\n",
              "                ('classifier', RandomForestClassifier(random_state=42))])"
            ]
          },
          "execution_count": 105,
          "metadata": {},
          "output_type": "execute_result"
        }
      ],
      "source": [
        "# Random Forest Classifier (tfidf_vector)\n",
        "classifier_1 = classifier = RandomForestClassifier(random_state=42)\n",
        "\n",
        "# Create pipeline \n",
        "pipe_3 = Pipeline([(\"cleaner\", predictors()),\n",
        "                 ('vectorizer', tfidf_vector),\n",
        "                 ('classifier', classifier_1)])\n",
        "\n",
        "# model training\n",
        "pipe_3.fit(X_train,y_train)"
      ]
    },
    {
      "cell_type": "code",
      "execution_count": null,
      "metadata": {
        "colab": {
          "base_uri": "https://localhost:8080/"
        },
        "id": "W3nkaaeGYGNN",
        "outputId": "7222a4d9-19bc-42e0-9b17-c33aabcb6c85"
      },
      "outputs": [
        {
          "name": "stdout",
          "output_type": "stream",
          "text": [
            "Random Forest Accuracy: 0.9596069868995634\n",
            "Random Forest Precision: 0.9557522123893806\n",
            "Random Forest Recall: 0.9973614775725593\n"
          ]
        }
      ],
      "source": [
        "# Predict usinf the test dataset\n",
        "predicted_3 = pipe_3.predict(X_test)\n",
        "\n",
        "\n",
        "# Model Accuracy\n",
        "print(\"Random Forest Accuracy:\",metrics.accuracy_score(y_test, predicted_3))\n",
        "print(\"Random Forest Precision:\",metrics.precision_score(y_test, predicted_3, zero_division=0)) #however using zero_divsion no value in the output!!\n",
        "print(\"Random Forest Recall:\",metrics.recall_score(y_test, predicted_3, zero_division=0)) #however using zero_divsion no value in the output!!"
      ]
    },
    {
      "cell_type": "code",
      "execution_count": null,
      "metadata": {
        "id": "vCJr2EuCsbiY"
      },
      "outputs": [],
      "source": [
        "# Predicting using the foreign test dataset with only text \n",
        "predicted_3 = pipe_3.predict(X_test_2_split)\n",
        "\n",
        "\n",
        "# Model Accuracy\n",
        "print(\"Logistic Regression Accuracy:\",metrics.accuracy_score(y_test_2, predicted_3))\n",
        "print(\"Logistic Regression Precision:\",metrics.precision_score(y_test_2, predicted_3, zero_division=0)) \n",
        "print(\"Logistic Regression Recall:\",metrics.recall_score(y_test_2, predicted_3, zero_division=0)"
      ]
    }
  ],
  "metadata": {
    "colab": {
      "provenance": []
    },
    "kernelspec": {
      "display_name": "Python 3",
      "name": "python3"
    },
    "language_info": {
      "name": "python"
    }
  },
  "nbformat": 4,
  "nbformat_minor": 0
}
